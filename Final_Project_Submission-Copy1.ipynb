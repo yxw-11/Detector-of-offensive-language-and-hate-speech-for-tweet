{
 "cells": [
  {
   "cell_type": "markdown",
   "metadata": {
    "id": "-9VDfC-ie19P"
   },
   "source": [
    "# Hate_Speech_and_Offensive_Language\n",
    "\n",
    "Project mentor: Carlos Aguirre\n",
    "\n",
    "Yuxiang Wang <ywang594@jh.edu>, Jingxi Liu <jliu238@jh.edu>, Wenkai Luo <wluo14@jh.edu>, Yuetong Liu<yliu390@jh.edu>\n",
    "\n",
    "https://github.com/YuetongLiu/Hate_Speech_and_Offensive_Language"
   ]
  },
  {
   "cell_type": "markdown",
   "metadata": {
    "id": "uqwI3PT-hBJo"
   },
   "source": [
    "# Outline and Deliverables"
   ]
  },
  {
   "cell_type": "markdown",
   "metadata": {
    "id": "F7Af6y48e7HI"
   },
   "source": [
    "### Uncompleted Deliverables\n",
    "1. \"Would like to complete #2\": Unsupervised learning: clustering hate speech to identify major topics, including race, colour, sex (ran out of time).\n",
    "2. \"Would like to complete #3\": Improvement: link data with CF users to study who are more likely to use hate speech/offensive language. Integrate the frequency of a user detected for posting hate speech and the user’s interaction with others (ran out of time).\n",
    "\n",
    "\n",
    "### Completed Deliverables\n",
    "1. \"Must complete #1\": Data Pre-processing: pre-process text data including deleting duplicates, removing stop words or punctuation, and convertingtweet content to lowercase. in \"Pre-processing\" below.\n",
    "2. \"Must complete #2\": Feature Extraction: Combine skip-gram, LIWC and LDA methods to extract features. [in Feature extractions](https://github.com/YuetongLiu/Hate_Speech_and_Offensive_Language/blob/main/code/Feature_Extraction%20.ipynb)\n",
    "3. \"Must complete #3\": Feature Selection: Use PMI on the training data to quantified the importance of each feature. Set up a threshold to choose themost beneficial features. Most features share similar mutual information, so we switched Logistics Regression with L1 regulization.[in \"Classic Methods\" below](https://github.com/YuetongLiu/Hate_Speech_and_Offensive_Language/blob/main/code/Logistic_n_SVM.ipynb).\n",
    "4. \"Expect to complete #1\": EDA: conduct exploratory data analysis. Moreover, conduct correlation analysis between features.in \"Pre-processing\" below and [in \"Classic Methods\" below](https://github.com/YuetongLiu/Hate_Speech_and_Offensive_Language/blob/main/code/Logistic_n_SVM.ipynb)\n",
    "5. \"Expect to complete #2\": Prediction: Use the F1 value on the Davidson, T. et al. (2017) as a baseline, accurately classify the text comment into hate speech,offensive language or neither. Otherwise, interpret the model to explain the mis-classification.[in \"Classic Methods\" below](https://github.com/YuetongLiu/Hate_Speech_and_Offensive_Language/blob/main/code/Logistic_n_SVM.ipynb)\n",
    "6. \"Expect to complete #3\": Model Selection: Besides logistic regression model, use MLP + CNN as a comparisons to train data and make model selectionbased on their performance. Use cross validation to find optimal hyper-parameters. in \"Deep Learning Methods\" below]\n",
    "7. \"Would like to complete #1\": Beside improving the precision, choose model based onevaluation metrics. [in \"Classic Methods\" below](https://github.com/YuetongLiu/Hate_Speech_and_Offensive_Language/blob/main/code/Logistic_n_SVM.ipynb)\n",
    "\n",
    "\n",
    "### Additional Deliverables\n",
    "1. We add TFIDF as a new method to extract features in [in Feature extractions](https://github.com/YuetongLiu/Hate_Speech_and_Offensive_Language/blob/main/code/Feature_Extraction%20.ipynb)\n"
   ]
  },
  {
   "cell_type": "code",
   "execution_count": 11,
   "metadata": {},
   "outputs": [],
   "source": [
    "import pandas as pd\n",
    "import numpy as np\n",
    "import nltk\n",
    "from nltk.stem.porter import *\n",
    "import string\n",
    "import re\n",
    "import matplotlib.pyplot as plt\n",
    "from sklearn.model_selection import train_test_split\n",
    "from gensim.models.word2vec import Word2Vec\n",
    "import warnings\n",
    "from random import choice\n",
    "from gensim import corpora, models\n",
    "from gensim.models import CoherenceModel\n",
    "import csv\n",
    "from liwc import LIWC\n",
    "warnings.filterwarnings(\"ignore\")"
   ]
  },
  {
   "cell_type": "markdown",
   "metadata": {
    "id": "Eiq2aSauhSsS"
   },
   "source": [
    "# Preliminaries"
   ]
  },
  {
   "cell_type": "markdown",
   "metadata": {
    "id": "NtWkhiIPfOfK"
   },
   "source": [
    "### What problem were you trying to solve or understand?\n",
    "Our project is to design a hate speech detector. we try to figure out the two key challenges for automatic hate speech detection on social media. The first is to decide whether a post is a hate speech. The second is to separate hate speech and other offensive languages.\n",
    "\n",
    "\n",
    "\n",
    "### What are the real-world implications of this data and task?\n",
    "\n",
    "Although the negative emotion expressions increase for internet’s lack of regulation, it makes the detection and supervision of hate speech possible to achieve by artificial intelligence. A machine learning solution could identify hate speech, and then flag it or remove it for review. At present, solution that relied human annotator is expensive and difficult for widespread use. Platform on the internet are interested in an automatic hate speech censor.\n",
    "\n",
    "### How is this problem similar to others we’ve seen in lectures, breakouts, and homeworks?\n",
    "\n",
    "The project is similar to Homework#4 of machine learning course, which is a binary classification problem of text data. We implement TFIDF and a support vector machine to classify the topic of news articles. However, it is different in this project that we analyze tweets here instead of documents and we try many combinations of methods on data extraction. The task in this project is more complex for the small size of each sample and the “less-standard English” on Twitter.\n",
    "\n",
    "\n",
    "### What makes this problem unique?\n",
    "\n",
    "The problem is unique for two reason. Firstly, there is no legal definition of hate speech in the U.S. law. But it is generally believed that the speech based on identity characteristics such as race and gender, which deliberately incites violence and prejudice, may constitute hate speech. The labels in data are given by users based on their feelings. And we want to build a classifier that is similar as natural human emotion. Secondly, Twitter data is uniquely messy and hard to preprocess. The problems includes misspelling, slang, colloquialisms,  irregular format, meaningless addition and the like.\n",
    "\n",
    "\n",
    "### What ethical implications does this problem have?\n",
    "People possess the right to express ideas and information regulated in the First Amendment. Therefore, labelling normal speech as hate speech incorrectly may break the freedom of speech. On the other hand, hate speech can causes many social problems such as racial inequality and climate of intolerance. Therefore, harmful speech left uncensored may violate the rights of others and do harm to the whole society."
   ]
  },
  {
   "cell_type": "markdown",
   "metadata": {
    "id": "zFq-_D0khnhh"
   },
   "source": [
    "## Dataset(s)\n",
    "\n",
    "Describe the dataset(s) you used.\n",
    "\n",
    "### 1.How were they collected?\n",
    "\n",
    "  The data came from the statistics of users’ hate speech and offensive language in social media.\n",
    "\n",
    "### 2.Why did you choose them?\n",
    "\n",
    "  First of all, we are very interested in the topic of hate speech and offensive language detection. Secondly, this topic has good social significance and the results of this study can somehow help improve the network environment.\n",
    "\n",
    "### 3.How many examples in each?\n",
    "\n",
    "  24783 samples in total and each sample contains 6 columns including labels.\n"
   ]
  },
  {
   "cell_type": "code",
   "execution_count": 12,
   "metadata": {
    "id": "2lOicoBYif7g"
   },
   "outputs": [
    {
     "name": "stdout",
     "output_type": "stream",
     "text": [
      "   count  hate_speech  offensive_language  neither  class  \\\n",
      "0      3            0                   0        3      2   \n",
      "1      3            0                   3        0      1   \n",
      "2      3            0                   3        0      1   \n",
      "\n",
      "                                               tweet  \n",
      "0  !!! RT @mayasolovely: As a woman you shouldn't...  \n",
      "1  !!!!! RT @mleew17: boy dats cold...tyga dwn ba...  \n",
      "2  !!!!!!! RT @UrKindOfBrand Dawg!!!! RT @80sbaby...  \n"
     ]
    }
   ],
   "source": [
    "# Load data and show some examples\n",
    "df=pd.read_csv(\"../data/labeled_data.csv\")\n",
    "df.drop(df.columns[[0]], axis=1,inplace=True)\n",
    "print(df.iloc[:3,:])"
   ]
  },
  {
   "cell_type": "markdown",
   "metadata": {
    "id": "XN1fYEfGidiD"
   },
   "source": [
    "## Pre-processing\n",
    "\n",
    "1.What features did you use or choose not to use? Why?\n",
    "\n",
    "We choose to use column named \"tweet\" which is directly related to our topic and the column named \"class\" is our label column.Since our \n",
    "goal is to detect hate speech and offensive language through text analysis, we decided not to use other features which are related to the \n",
    "count of words. \n",
    "\n",
    "2.If you have categorical labels, were your datasets class-balanced?\n",
    "\n",
    "We do have categorical labels, and they are unbalanced.(Shown below)\n",
    "\n",
    "3.How did you deal with missing data? What about outliers?\n",
    "\n",
    "Fortunately, our dataset does not have missing data. Besides, what we are really insterested in are all \"string\" format data, so we do not consider outliers here. While we do deal with some of the tweets that are problematic. For example, some sentences only contain special punctuations, and some sentences have # before every word.\n",
    "\n",
    "4.What approach(es) did you use to pre-process your data? Why?\n",
    "\n",
    "We remove less important part of each tweet:<br>\n",
    "1 Punctuation <br>\n",
    "2 Stop words <br>\n",
    "3 Hashtag <br>\n",
    "4 Username <br>\n",
    "5 Http information <br>\n",
    "6 Digit and excessive whitespaces <br>\n",
    "\n",
    "Then we also transform all the letters into lower case, and then do stemming and tokenization. In particular, we deal with those special problematic sentences by rewriting regular expression for them.\n",
    "\n",
    "All of the operations above are in order to retain only important information of tweet and remove irrelevant information. Let each of our data maintains words which are related to distinguishing hate speech and offensive language. Finally, our data would be more accurate in word embedding part, which may help the prediction of our models.\n",
    "\n",
    "5.Are your features continuous or categorical? How do you treat these features differently?\n",
    "\n",
    "Our data is text format, so after embedding all the tweets we only have continuous numeric vectors."
   ]
  },
  {
   "cell_type": "code",
   "execution_count": 13,
   "metadata": {
    "id": "EEuKEzM5ipag"
   },
   "outputs": [
    {
     "name": "stdout",
     "output_type": "stream",
     "text": [
      "label 0 1430\n",
      "label 1 19190\n",
      "label 2 4163\n"
     ]
    }
   ],
   "source": [
    "# For those same examples above, what do they look like after being pre-processed?\n",
    "print(\"label 0\",np.sum(df[\"class\"]==0))\n",
    "print(\"label 1\",np.sum(df[\"class\"]==1))\n",
    "print(\"label 2\",np.sum(df[\"class\"]==2))"
   ]
  },
  {
   "cell_type": "markdown",
   "metadata": {},
   "source": [
    "Thus our data is obviously unbalanced."
   ]
  },
  {
   "cell_type": "code",
   "execution_count": 14,
   "metadata": {},
   "outputs": [
    {
     "data": {
      "image/png": "[encoded data removed]",
      "text/plain": [
       "<Figure size 432x288 with 1 Axes>"
      ]
     },
     "metadata": {
      "needs_background": "light"
     },
     "output_type": "display_data"
    },
    {
     "name": "stdout",
     "output_type": "stream",
     "text": [
      "average len before preprocessing 85.43606504458701\n"
     ]
    }
   ],
   "source": [
    "# Tweet length before preprocessing\n",
    "#average len of tweet\n",
    "tweet = np.array(df[\"tweet\"])\n",
    "avg=0\n",
    "num=[]\n",
    "x=[x for x in range(24783)]\n",
    "for n in range(tweet.shape[0]):\n",
    "    avg+=len(tweet[n])\n",
    "    num.append(len(tweet[n]))\n",
    "avg=avg/(tweet.shape[0])\n",
    "plt.bar(x,num)\n",
    "plt.show()\n",
    "print(\"average len before preprocessing\",avg)"
   ]
  },
  {
   "cell_type": "code",
   "execution_count": 15,
   "metadata": {},
   "outputs": [
    {
     "name": "stdout",
     "output_type": "stream",
     "text": [
      "#Yankees\n"
     ]
    }
   ],
   "source": [
    "# Index of tweet only contain format like\"#XX #XX\" (which would be empty after remove hashtag)\n",
    "# We need to specially deal with them\n",
    "special_index=[804,826,846,848,849,923,1016,1122,1909,3398,4818,5711,6098,6279,6332,6668,7168,11951,15859,18062]\n",
    "# for example\n",
    "print(df['tweet'][804])"
   ]
  },
  {
   "cell_type": "code",
   "execution_count": 16,
   "metadata": {},
   "outputs": [
    {
     "name": "stdout",
     "output_type": "stream",
     "text": [
      "@TNKidsFoodPorn @Oreo ..............&#128530;\n",
      "@hoes &#9829;\n"
     ]
    }
   ],
   "source": [
    "# Also there are two meaningless tweet\n",
    "print(df['tweet'][4828])\n",
    "print(df['tweet'][6098])\n",
    "meaningless_index=[4828,6098]"
   ]
  },
  {
   "cell_type": "code",
   "execution_count": 33,
   "metadata": {},
   "outputs": [],
   "source": [
    "#copy original text\n",
    "txt=df.iloc[:,4:6]\n",
    "tweet=txt.iloc[:,1].copy(deep=True)\n",
    "stemmer = PorterStemmer()"
   ]
  },
  {
   "cell_type": "code",
   "execution_count": 34,
   "metadata": {},
   "outputs": [],
   "source": [
    "def preprocess(tweet_,specail_index,meaningless_index):\n",
    "    #remove stopwords\n",
    "    stopwords = nltk.corpus.stopwords.words(\"english\")\n",
    "    other = [\"#ff\", \"ff\", \"rt\"]\n",
    "    stopwords.extend(other)   \n",
    "    for i in range(tweet_.shape[0]):\n",
    "        text=tweet_[i].lower()\n",
    "        text1=''.join([word+\" \" for word in text.split() if word not in stopwords])\n",
    "        tweet_[i]=text1\n",
    "    \n",
    "    #remove digit and excessive whitespace\n",
    "    #remove url mention and hashtag\n",
    "    \n",
    "    space_pattern = '\\s+'\n",
    "    giant_url_regex = ('http[s]?://(?:[a-zA-Z]|[0-9]|[$-_@.&+]|'\n",
    "        '[!*\\(\\),]|(?:%[0-9a-fA-F][0-9a-fA-F]))+')\n",
    "    mention_regex = '@[\\w\\-]+'\n",
    "    hashtag_regex = '#[\\w\\-]+'\n",
    "    \n",
    "    for i in range(tweet_.shape[0]):\n",
    "        text_string=tweet_[i]\n",
    "        parsed_text = re.sub(space_pattern, ' ', text_string)\n",
    "        parsed_text = re.sub(giant_url_regex, '', parsed_text)\n",
    "        parsed_text = re.sub(mention_regex, '', parsed_text) \n",
    "        if i not in specail_index:\n",
    "            parsed_text = re.sub(hashtag_regex, '', parsed_text)\n",
    "        else:\n",
    "            parsed_text = re.sub('#','',parsed_text)\n",
    "        if i in meaningless_index:\n",
    "            parsed_text ='This is a simple tweet'\n",
    "        tweet_[i]=parsed_text\n",
    "    \n",
    "    #tokenize and stemming\n",
    "    \"\"\"Removes punctuation and stems tweets. Returns a list of stemmed tokens.\"\"\"\n",
    "    for i in range(tweet_.shape[0]):\n",
    "        #tweet_stem=tweet_[i]\n",
    "        #tweet_stem = \" \".join(re.split(\"[^a-zA-Z]*\", tweet_stem)).strip()\n",
    "        #tweet_process = [stemmer.stem(t) for t in tweet_stem.split()]\n",
    "        #tweet_[i]=tweet_process\n",
    "        \n",
    "        tweet_stem=tweet_[i]\n",
    "        \n",
    "        remove = str.maketrans('','',string.punctuation) \n",
    "        tweet_stem = tweet_stem.translate(remove).strip()\n",
    "\n",
    "        tweet_process = [stemmer.stem(t) for t in tweet_stem.split()]\n",
    "        \n",
    "        tweet_[i]=tweet_process\n",
    "        \n",
    "        #tweet_[i] = ' '.join([str(elem) for elem in tweet_process]) \n",
    "        \n",
    "    return tweet_"
   ]
  },
  {
   "cell_type": "code",
   "execution_count": 35,
   "metadata": {},
   "outputs": [
    {
     "name": "stdout",
     "output_type": "stream",
     "text": [
      "0    [woman, complain, clean, hous, amp, man, alway...\n",
      "1    [boy, dat, coldtyga, dwn, bad, cuffin, dat, ho...\n",
      "2    [dawg, ever, fuck, bitch, start, cri, confus, ...\n",
      "3                                 [look, like, tranni]\n",
      "4    [shit, hear, might, true, might, faker, bitch,...\n",
      "Name: tweet, dtype: object\n"
     ]
    }
   ],
   "source": [
    "#results of pre-process\n",
    "tweet=preprocess(tweet,special_index,meaningless_index)\n",
    "print(tweet[:5])"
   ]
  },
  {
   "cell_type": "code",
   "execution_count": 36,
   "metadata": {},
   "outputs": [
    {
     "data": {
      "image/png": "[encoded data removed]",
      "text/plain": [
       "<Figure size 432x288 with 1 Axes>"
      ]
     },
     "metadata": {
      "needs_background": "light"
     },
     "output_type": "display_data"
    },
    {
     "name": "stdout",
     "output_type": "stream",
     "text": [
      "average len after preprocessing 7.689262801113666\n"
     ]
    }
   ],
   "source": [
    "# Visualize the distribution of your data before and after pre-processing.\n",
    "#   You may borrow from how we visualized data in the Lab homeworks.\n",
    "# Tweet length after preprocessing\n",
    "avg=0\n",
    "num=[]\n",
    "x=[x for x in range(24783)]\n",
    "for n in range(tweet.shape[0]):\n",
    "    avg+=len(tweet[n])\n",
    "    num.append(len(tweet[n]))\n",
    "avg=avg/(tweet.shape[0])\n",
    "plt.bar(x,num)\n",
    "plt.show()\n",
    "print(\"average len after preprocessing\",avg)"
   ]
  },
  {
   "cell_type": "markdown",
   "metadata": {
    "id": "tASjmmtjiwvu"
   },
   "source": [
    "# Models and Evaluation"
   ]
  },
  {
   "cell_type": "markdown",
   "metadata": {
    "id": "LlrwR9E1hnQ3"
   },
   "source": [
    "## Experimental Setup\n",
    "\n",
    "### How did you evaluate your methods? Why is that a reasonable evaluation metric for the task?\n",
    "The F1-score is used to evaluate the performance of our model. F1-score is generally used to measure the performance of classification. F1-score can be computed by the following formula: \n",
    "\\begin{equation*}\n",
    "    F_1 = 2 \\cdot \\frac{\\textbf{precision} \\cdot \\textbf{recall}}{\\textbf{precision} + \\textbf{recall}}\n",
    "\\end{equation*}\n",
    "where precision and recall can be computed by following:\n",
    "\\begin{align*}\n",
    "    \\textbf{precision} &= \\frac{TP}{TP + FP} \\\\\n",
    "    \\textbf{recall} &= \\frac{TP}{TP + FN} \\\\\n",
    "\\end{align*}\n",
    "where $TP$, $FP$ and $FN$ are the number of true positive, false positive and false negative respectively. F1-score is suitable for the classification task, especially for the unbalanced dataset, while the total accuracy for the whole classification cannot reflect the performance of model. The dataset we use for our project is an unbalanced dataset, where the hate speech samples are relatively less than the offensive samples and neither samples. Due to the unbalanced property of the dataset, even though we predict all the hate-speech as offensive or neither, it won’t affect the total accuracy too much, however the actual performance of hate speech detection can be really bad. The F1- score also take the false negative part into account which we can see the performance of classifier in the specific class. Thus F1-score is suitable evaluation metric to measure performance of model in this project.\n",
    "\n",
    "\n",
    "### What did you use for your loss function to train your models? Did you try multiple loss functions? Why or why not?\n",
    "\n",
    "For the logistic regression with L2 regularization, the loss function is the log loss, \n",
    "which can be written in the following form:\n",
    "\n",
    "\\begin{equation*}\n",
    "L = E_w(Y,x) + E_w(w)    \n",
    "\\end{equation*}\n",
    "Where \n",
    "\\begin{align*}\n",
    "E_w(x) &=   -\\sum_{i=1}^N \\left[y_i log(\\sigma({\\bf Wx})) + (1-y_i) log(1 -{\\bf Wx}) \\right]\\\\\n",
    "E_w(w) &=   - \\lambda \\sum_{c = 1}^C ||\\vec{w}_c||_2^2 \\\\\n",
    "\\sigma({\\bf Wx}) &= \\frac{1}{1+ e^{-{\\bf W^{T} x}}} \\\\\n",
    "\\end{align*}\n",
    "\n",
    "For the TextCNN model, the loss function is also cross entropy, which is same as the log loss in logistic regression. We didn’t try different loss functions, because we consider the feature generation is the more important part for the performance of our model. We just used the common loss function in this project.\n",
    "\n",
    "### How did you split your data into train and test sets? Why?\n",
    "For the classic method, we just utilize the skit-lean build-in libraries to split our dataset randomly into different portions such as [80% Training data, 20% Testing data] and [90% Training data, 10% Testing data]. \n",
    "\n",
    "For the TextCNN, we did try to put more data into training set in order to build a more comprehensive vocabulary dictionary that incorporate as much words as possible, because we will apply word embedding to our sentence in order to represent the sentence mathematically. If size of vocabulary dictionary is too small, the out-of-vocabulary issue will introduce the sparsity into the embedding matrix, which might cause overfitting.\n",
    "\n",
    "But we have to admit that it might not be a good idea to split our data in this way due to the unbalanced property of the datasets. It might introduce the bias into our model."
   ]
  },
  {
   "cell_type": "markdown",
   "metadata": {},
   "source": [
    "### Git repo for feature extractions:\n",
    "https://github.com/YuetongLiu/Hate_Speech_and_Offensive_Language/blob/main/code/Feature_Extraction%20.ipynb"
   ]
  },
  {
   "cell_type": "markdown",
   "metadata": {
    "id": "qUNxC358jPDr"
   },
   "source": [
    "### Code for loss functions, evaluation metrics or link to Git repo:\n",
    "https://github.com/YuetongLiu/Hate_Speech_and_Offensive_Language/blob/main/code/Logistic_n_SVM.ipynb"
   ]
  },
  {
   "cell_type": "markdown",
   "metadata": {
    "id": "oMyqHUa0jUw7"
   },
   "source": [
    "## Baselines \n",
    "\n",
    "### What baselines did you compare against? Why are these reasonable?\n",
    "The baseline mode we choose is the one that provide the dataset in [Automated Hate Speech Detection and the Problem of Offensive Language](http://sdl.soc.cornell.edu/img/publication_pdf/hatespeechdetection.pdf). This model created a pipeline of hate speech detection, which also incorporate most of state-of-art feature generation methods. Also, this baseline model also demonstrates the explicit performance of model in specific hate speech class with the use of F1-score, while other paper might only compare the weighted-average F1-score for all three class. Our classic method using logistic regression and SVM utilize some of the ideas from this baseline while also introduce the embedding feature as our contribution. For the TextCNN model, we aim at exploring the effect of different environment setting to the performance of hate speech classification.\n",
    "\n",
    "### Did you look at related work to contextualize how others methods or baselines have performed on this dataset/task? If so, how did those methods do?\n",
    "The difficult of hate-speech detection are the its similarity with offensive language, even some paper consider hate-speech as a subset of offensive language, and its subjectivity, which is also demonstrated in the dataset. [[1]](http://sdl.soc.cornell.edu/img/publication_pdf/hatespeechdetection.pdf).\n",
    "\n",
    "Hate speech is a interested area where current research can be generally divided into two categories including the classic machine learning method such as logistic method and deep neural network such as TextCNN, LSTM and RNN [[2]]( 2Q2WDCB638D43FE1E1190A9E8DCB8ED30CF459E7560D_unknown_A33959A0DF385E32CF856B03ABAA940EF1C0B61C_4). The classic mostly relies on the feature created from the text file. Several paperd investigate effect of different features, however they just stack the features together and do feature selection to boost the performance. The popular features include PoS, n-gram and so on. The neural network will automatically select the feature by the network. Different neural network including RNN, CNN, LSTM has shown that they have promising future in this application. "
   ]
  },
  {
   "cell_type": "markdown",
   "metadata": {
    "id": "PqB48IF9kMBf"
   },
   "source": [
    "## Classic Methods\n",
    "\n",
    "### What methods did you choose? Why did you choose them?\n",
    "Based on the prior work and literature review. Both logistic regression and SVM seem promising methods for this classifying application.In this project, we will be focusing on logistic regression with L2 regularization. A one-versus-rest framework will be applied in thisproject where each classifier will be trained separately for the specific class. During the testing stage, the class with the highest predictedprobability will be labelled for the corresponding sample.\n",
    "\n",
    "### How did you train these methods, and how did you evaluate them? Why?\n",
    "We trained this models and evaluated them based on F1_mirco_score. We use micro score because the data is inbalanced, and we are more interested in performance of the minor group(hate speech)\n",
    "\n",
    "### Which methods were easy/difficult to implement and train? Why?\n",
    "The model is easy to implement. However, it takes long time to train due to the large dimension of the sparse features.\n",
    "\n",
    "### For each method, what hyperparameters did you evaluate? How sensitive was your model's performance to different hyperparameter settings?\n",
    "For logistic Regression, we tuned regularization strength C and tried several optimization algorithms. The performance doesn't have very significant change after hyperparameter tuning, but the accuracy does increase.\n",
    "\n",
    "### Code for training models, or link to your Git repository:\n",
    "https://github.com/YuetongLiu/Hate_Speech_and_Offensive_Language/blob/main/code/Logistic_n_SVM.ipynb"
   ]
  },
  {
   "cell_type": "markdown",
   "metadata": {
    "id": "PqB48IF9kMBf"
   },
   "source": [
    "## Deep Learning Methods\n",
    "\n",
    "### What methods did you choose? Why did you choose them?\n",
    "\n",
    "In order to investigate the performance using different methods, we plan to use TextCNN to tackle the same problem in this project to investigate the difference between classic method and neural network. The motivation behind TextCNN is that the combination of Multilayer Perceptron (MLP) and Convolutional Neural Networks (CNN) did a really good job in image classification, and TextCNN has been applied in this field for a while. As a group that are new to machine learning, we decided to choose the method that we are able to handle and modified. TextCNN is familiar to us and easier to implement, which also provide us with flexibility to modify the network by ourselves.\n",
    "\n",
    "### How did you train these methods, and how did you evaluate them? Why?\n",
    "\n",
    "To design and train out TextCNN model, we utilize the pytorch framework and torchtext package.  We design the TextCNN based on the [Convolutional Neural Networks for Sentence Classification](https://arxiv.org/abs/1408.5882) and use torchtext to create the dataset using the preprocessed data. In term of training, we use opt.Adam to optimize the object function and update the parameters in the network. Adam is able to adjust the learning rate based on the curvature of the cost function. Backpropagation is the theoretical basis for neural network training. The cross entropy will be back propagated into initial layer to be used to update the parameter. In addition, we also apply over-fitting to prevent overfitting in the training process. The evaluation metric is same as logistic regression, which has been discussed in the previous sessions.\n",
    "### Which methods were easy/difficult to implement and train? Why?\n",
    "The TextCNN model is not hard to train and implement, but we did spent time to investigate the suitable setting for this specific dataset and be familiar with the package and framework. Apart from the training environment, the data processing is also an important part, which will affect the training process and model performance. \n",
    "\n",
    "To find a suitable pre-processing criterion that can be matched with the methods we are going to use, we also need to need to investigate the property of the text including the significant part of the tweets such as url, hashtage and username and the length distribution of the dataset. This part has already been discussed in the pre-processing part. \n",
    "\n",
    "Due to the diversity of the tweet, the length of sentence after pre-processing might have a significant difference, some tweet might only contain one or two words, which will introduce the sparsity into the model. We need to take that in to account, otherwise it might cause over-fitting. Thus we need to find a suitable setting to avoid this issue.\n",
    "\n",
    "### For each method, what hyperparameters did you evaluate? How sensitive was your model's performance to different hyperparameter settings?\n",
    "\n",
    "There are three hyperparameters that we think important in the TextCNN, which are kernel size, embedding dimension and sentence length.\n",
    "\n",
    "For the kernel size, doing the convolution in embedding matrix of sentence is similar like computing the n-gram feature from sentences. Based on that fact that our data doesn’t have long sentence and paragraph, we try different kernel size. Eventually we use [1,2,3] as our model convolution layer kernels size. Theoretically, it is computing the one-gram, bi-gram and tri-gram. \n",
    "\n",
    "For the embedding dimension, it’s the key hyperparameter in the TextCNN model, because It decided the performance of model. As we discussed in SVM lecture. We believe we can project our nonlinear data into high dimensional space to find a linearly separable hyperplane. Embedding is like project the text data into a word vector representation form, which is able to be recognised by our model. In this project we didn’t introduce external embedding method, but let the model learn the embedding during training. A suitable embedding dimension is from 100~300, which is good enough to distinguish each word in the builded vocabulary dictionary. We use the torchtext data.Field to handle this task, which also allow the system embed unknown word in to specific word vector to tackle out-of-vocabulary issue. \n",
    "For sentence length, it is also important for the performance of model. Our strategy is to keep all the sentence within a fixed length. For those are less than the desired length, we will pad the sentence until it matches with the requirement, and truncate those exceed the desired length. When we investigate the property of the data we have.  We realized that this dataset is a messy raw dataset with lots of username, hashtag, url, emoji and so on. Although these kinds of information might be helpful for model to predict the correct class, they are useless at most of time. Thus, we apply rigour pre-processing criterion to our dataset, this introduce the a side-effect into the model. We realized that there some sample only contain one or two words, where it might introduce huge sparsity into the model. Thus, we need to find the suitable desired length. After we investigate the length distribution of text after pre-processing. We find 15 is a suitable desired length."
   ]
  },
  {
   "cell_type": "code",
   "execution_count": null,
   "metadata": {},
   "outputs": [],
   "source": [
    "# Code for training models, or link to your Git repository:"
   ]
  },
  {
   "cell_type": "markdown",
   "metadata": {
    "id": "_Zdp4_H-kx8H"
   },
   "source": [
    "## Results"
   ]
  },
  {
   "cell_type": "markdown",
   "metadata": {},
   "source": [
    "![jupyter](./T1.png)\n",
    "![jupyter](./T2.png)\n",
    "![jupyter](./textcnn.png)"
   ]
  },
  {
   "cell_type": "markdown",
   "metadata": {
    "id": "bS2sjfbglG_V"
   },
   "source": [
    "### What about these results surprised you? Why?\n",
    "\n",
    "### Did your models over- or under-fit? How can you tell? What did you do to address these issues?\n",
    "For TextCNN model, the test accuracy is increasing while the train accuracy is also increasing, thus we can say there isn't a overfitting in the TextCNN model.\n",
    "### What does the evaluation of your trained models tell you about your data? How do you expect these models might behave differently on different data?  "
   ]
  },
  {
   "cell_type": "markdown",
   "metadata": {
    "id": "59EbS1GilSQ_"
   },
   "source": [
    "# Discussion"
   ]
  },
  {
   "cell_type": "markdown",
   "metadata": {
    "id": "ugJXhZKNlUT4"
   },
   "source": [
    "## What you've learned\n",
    "\n",
    "We used lots of concepts that we learned from class. Lectures on SVM and logistic regression are extremely helpful when we are dealing with this classification problem. Moreover, the homework on kernel functions gave us inspriation on extracting numrical features for natural language. Also, the CNN homework helped us to be familiar with the structure of CNN, so than make it easier when we building TextCNN.\n",
    "\n",
    "Since many people have worked on this proejct before, we have many resource for literature review. It saved us many time to figure out the pipeline of this project, and give us some new aspects when approaching the problem. I think literature review would be important for us when working for other projects.\n",
    "\n",
    "After the presentation, other groups gave us some suggestios on data pre-processing, including remove non-essential words. After removing more noising words from our dataset, we are able to extract features which are more relevant to the topic.\n",
    "\n",
    "Even though we tried several feature extraction methods, not all of them have good performance when fitting into the model. If we could have more time to work on this project, we would want to evaluate the relevance between features and our raw data."
   ]
  },
  {
   "cell_type": "code",
   "execution_count": null,
   "metadata": {},
   "outputs": [],
   "source": []
  }
 ],
 "metadata": {
  "colab": {
   "collapsed_sections": [],
   "name": "Final Project Submission Template",
   "provenance": [],
   "toc_visible": true
  },
  "kernelspec": {
   "display_name": "Python 3",
   "language": "python",
   "name": "python3"
  },
  "language_info": {
   "codemirror_mode": {
    "name": "ipython",
    "version": 3
   },
   "file_extension": ".py",
   "mimetype": "text/x-python",
   "name": "python",
   "nbconvert_exporter": "python",
   "pygments_lexer": "ipython3",
   "version": "3.7.0"
  },
  "varInspector": {
   "cols": {
    "lenName": 16,
    "lenType": 16,
    "lenVar": 40
   },
   "kernels_config": {
    "python": {
     "delete_cmd_postfix": "",
     "delete_cmd_prefix": "del ",
     "library": "var_list.py",
     "varRefreshCmd": "print(var_dic_list())"
    },
    "r": {
     "delete_cmd_postfix": ") ",
     "delete_cmd_prefix": "rm(",
     "library": "var_list.r",
     "varRefreshCmd": "cat(var_dic_list()) "
    }
   },
   "types_to_exclude": [
    "module",
    "function",
    "builtin_function_or_method",
    "instance",
    "_Feature"
   ],
   "window_display": false
  }
 },
 "nbformat": 4,
 "nbformat_minor": 1
}
