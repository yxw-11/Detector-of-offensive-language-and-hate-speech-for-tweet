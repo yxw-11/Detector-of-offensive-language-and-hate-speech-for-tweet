{
 "cells": [
  {
   "cell_type": "markdown",
   "metadata": {},
   "source": [
    "Link to GitHub:\n",
    "\n",
    "https://github.com/YuetongLiu/Hate_Speech_and_Offensive_Language"
   ]
  },
  {
   "cell_type": "code",
   "execution_count": 1,
   "metadata": {},
   "outputs": [],
   "source": [
    "import pandas as pd\n",
    "import numpy as np\n",
    "import nltk\n",
    "from nltk.stem.porter import *\n",
    "import string\n",
    "import re\n",
    "import matplotlib.pyplot as plt\n",
    "from sklearn.model_selection import train_test_split\n",
    "from gensim.models.word2vec import Word2Vec\n",
    "import warnings\n",
    "from random import choice\n",
    "from gensim import corpora, models\n",
    "from gensim.models import CoherenceModel\n",
    "import csv\n",
    "from liwc import LIWC\n",
    "warnings.filterwarnings(\"ignore\")"
   ]
  },
  {
   "cell_type": "markdown",
   "metadata": {},
   "source": [
    "# Load Raw Data"
   ]
  },
  {
   "cell_type": "code",
   "execution_count": 3,
   "metadata": {},
   "outputs": [
    {
     "name": "stdout",
     "output_type": "stream",
     "text": [
      "   count  hate_speech  offensive_language  neither  class  \\\n",
      "0      3            0                   0        3      2   \n",
      "1      3            0                   3        0      1   \n",
      "2      3            0                   3        0      1   \n",
      "3      3            0                   2        1      1   \n",
      "4      6            0                   6        0      1   \n",
      "\n",
      "                                               tweet  \n",
      "0  !!! RT @mayasolovely: As a woman you shouldn't...  \n",
      "1  !!!!! RT @mleew17: boy dats cold...tyga dwn ba...  \n",
      "2  !!!!!!! RT @UrKindOfBrand Dawg!!!! RT @80sbaby...  \n",
      "3  !!!!!!!!! RT @C_G_Anderson: @viva_based she lo...  \n",
      "4  !!!!!!!!!!!!! RT @ShenikaRoberts: The shit you...  \n",
      "(24783, 6)\n"
     ]
    }
   ],
   "source": [
    "df=pd.read_csv(\"labeled_data.csv\")\n",
    "df.drop(df.columns[[0]], axis=1,inplace=True)\n",
    "print(df.iloc[:5,:])\n",
    "print(df.shape)"
   ]
  },
  {
   "cell_type": "markdown",
   "metadata": {},
   "source": [
    "# Data Pre-processing "
   ]
  },
  {
   "cell_type": "code",
   "execution_count": 4,
   "metadata": {},
   "outputs": [
    {
     "data": {
      "text/plain": [
       "0     !!! RT @mayasolovely: As a woman you shouldn't...\n",
       "1     !!!!! RT @mleew17: boy dats cold...tyga dwn ba...\n",
       "2     !!!!!!! RT @UrKindOfBrand Dawg!!!! RT @80sbaby...\n",
       "3     !!!!!!!!! RT @C_G_Anderson: @viva_based she lo...\n",
       "4     !!!!!!!!!!!!! RT @ShenikaRoberts: The shit you...\n",
       "5     !!!!!!!!!!!!!!!!!!\"@T_Madison_x: The shit just...\n",
       "6     !!!!!!\"@__BrighterDays: I can not just sit up ...\n",
       "7     !!!!&#8220;@selfiequeenbri: cause I'm tired of...\n",
       "8     \" &amp; you might not get ya bitch back &amp; ...\n",
       "9     \" @rhythmixx_ :hobbies include: fighting Maria...\n",
       "10    \" Keeks is a bitch she curves everyone \" lol I...\n",
       "11                   \" Murda Gang bitch its Gang Land \"\n",
       "12    \" So hoes that smoke are losers ? \" yea ... go...\n",
       "13        \" bad bitches is the only thing that i like \"\n",
       "14                              \" bitch get up off me \"\n",
       "15                      \" bitch nigga miss me with it \"\n",
       "16                               \" bitch plz whatever \"\n",
       "17                            \" bitch who do you love \"\n",
       "18                   \" bitches get cut off everyday B \"\n",
       "19                   \" black bottle &amp; a bad bitch \"\n",
       "Name: tweet, dtype: object"
      ]
     },
     "execution_count": 4,
     "metadata": {},
     "output_type": "execute_result"
    }
   ],
   "source": [
    "df['tweet'][:20]"
   ]
  },
  {
   "cell_type": "code",
   "execution_count": 5,
   "metadata": {},
   "outputs": [
    {
     "name": "stdout",
     "output_type": "stream",
     "text": [
      "#Yankees\n"
     ]
    }
   ],
   "source": [
    "# Index of tweet only contain format like\"#XX #XX\" (which would be empty after remove hashtag)\n",
    "# We need to specially deal with them\n",
    "special_index=[804,826,846,848,849,923,1016,1122,1909,3398,4818,5711,6098,6279,6332,6668,7168,11951,15859,18062]\n",
    "# for example\n",
    "print(df['tweet'][804])"
   ]
  },
  {
   "cell_type": "code",
   "execution_count": 6,
   "metadata": {},
   "outputs": [
    {
     "name": "stdout",
     "output_type": "stream",
     "text": [
      "@TNKidsFoodPorn @Oreo ..............&#128530;\n",
      "@hoes &#9829;\n"
     ]
    }
   ],
   "source": [
    "# Also there are two meaningless tweet\n",
    "print(df['tweet'][4828])\n",
    "print(df['tweet'][6098])\n",
    "meaningless_index=[4828,6098]"
   ]
  },
  {
   "cell_type": "code",
   "execution_count": 7,
   "metadata": {},
   "outputs": [],
   "source": [
    "#copy original text\n",
    "txt=df.iloc[:,4:6]\n",
    "tweet=txt.iloc[:,1].copy(deep=True)\n",
    "stemmer = PorterStemmer()"
   ]
  },
  {
   "cell_type": "code",
   "execution_count": 8,
   "metadata": {},
   "outputs": [],
   "source": [
    "def preprocess(tweet_,specail_index,meaningless_index):\n",
    "    #remove stopwords\n",
    "    stopwords = nltk.corpus.stopwords.words(\"english\")\n",
    "    other = [\"#ff\", \"ff\", \"rt\"]\n",
    "    stopwords.extend(other)\n",
    "    #word tokenize and remove stopwords\n",
    "    \n",
    "    for i in range(tweet_.shape[0]):\n",
    "        text=tweet_[i].lower()\n",
    "        text1=''.join([word+\" \" for word in text.split() if word not in stopwords])\n",
    "        tweet_[i]=text1\n",
    "    \n",
    "    #remove digit and excessive whitespace\n",
    "    #remove url mention and hashtag\n",
    "    \n",
    "    space_pattern = '\\s+'\n",
    "    giant_url_regex = ('http[s]?://(?:[a-zA-Z]|[0-9]|[$-_@.&+]|'\n",
    "        '[!*\\(\\),]|(?:%[0-9a-fA-F][0-9a-fA-F]))+')\n",
    "    mention_regex = '@[\\w\\-]+'\n",
    "    hashtag_regex = '#[\\w\\-]+'\n",
    "    \n",
    "    for i in range(tweet_.shape[0]):\n",
    "        text_string=tweet_[i]\n",
    "        parsed_text = re.sub(space_pattern, ' ', text_string)\n",
    "        parsed_text = re.sub(giant_url_regex, '', parsed_text)\n",
    "        parsed_text = re.sub(mention_regex, '', parsed_text) \n",
    "        if i not in specail_index:\n",
    "            parsed_text = re.sub(hashtag_regex, '', parsed_text)\n",
    "        else:\n",
    "            parsed_text = re.sub('#','',parsed_text)\n",
    "        if i in meaningless_index:\n",
    "            parsed_text ='This is a simple tweet'\n",
    "        tweet_[i]=parsed_text\n",
    "    \n",
    "    #tokenize and stemming\n",
    "    \"\"\"Removes punctuation and stems tweets. Returns a list of stemmed tokens.\"\"\"\n",
    "    for i in range(tweet_.shape[0]):\n",
    "        tweet_stem=tweet_[i]\n",
    "        tweet_stem = \" \".join(re.split(\"[^a-zA-Z]*\", tweet_stem)).strip()\n",
    "        tweet_process = [stemmer.stem(t) for t in tweet_stem.split()]\n",
    "        tweet_[i]=tweet_process\n",
    "        \n",
    "    return tweet_"
   ]
  },
  {
   "cell_type": "markdown",
   "metadata": {},
   "source": [
    "## Results of pre-processing:"
   ]
  },
  {
   "cell_type": "code",
   "execution_count": 9,
   "metadata": {},
   "outputs": [
    {
     "name": "stdout",
     "output_type": "stream",
     "text": [
      "0     [w, o, m, a, n, c, o, m, p, l, a, i, n, c, l, ...\n",
      "1     [b, o, y, d, a, t, s, c, o, l, d, t, y, g, a, ...\n",
      "2     [d, a, w, g, e, v, e, r, f, u, c, k, b, i, t, ...\n",
      "3            [l, o, o, k, l, i, k, e, t, r, a, n, n, y]\n",
      "4     [s, h, i, t, h, e, a, r, m, i, g, h, t, t, r, ...\n",
      "5     [s, h, i, t, b, l, o, w, s, m, e, c, l, a, i, ...\n",
      "6     [s, i, t, h, a, t, e, a, n, o, t, h, e, r, b, ...\n",
      "7     [c, a, u, s, e, i, m, t, i, r, e, d, b, i, g, ...\n",
      "8     [a, m, p, m, i, g, h, t, g, e, t, y, a, b, i, ...\n",
      "9     [h, o, b, b, i, e, s, i, n, c, l, u, d, e, f, ...\n",
      "10    [k, e, e, k, s, b, i, t, c, h, c, u, r, v, e, ...\n",
      "11    [m, u, r, d, a, g, a, n, g, b, i, t, c, h, g, ...\n",
      "12    [h, o, e, s, s, m, o, k, e, l, o, s, e, r, s, ...\n",
      "13    [b, a, d, b, i, t, c, h, e, s, t, h, i, n, g, ...\n",
      "14                             [b, i, t, c, h, g, e, t]\n",
      "15           [b, i, t, c, h, n, i, g, g, a, m, i, s, s]\n",
      "16     [b, i, t, c, h, p, l, z, w, h, a, t, e, v, e, r]\n",
      "17                          [b, i, t, c, h, l, o, v, e]\n",
      "18    [b, i, t, c, h, e, s, g, e, t, c, u, t, e, v, ...\n",
      "19    [b, l, a, c, k, b, o, t, t, l, e, a, m, p, b, ...\n",
      "Name: tweet, dtype: object\n"
     ]
    }
   ],
   "source": [
    "#results of pre-process\n",
    "tweet=preprocess(tweet,special_index,meaningless_index)\n",
    "print(tweet[:20])"
   ]
  },
  {
   "cell_type": "code",
   "execution_count": 25,
   "metadata": {
    "collapsed": true
   },
   "outputs": [],
   "source": [
    "tweet = pd.DataFrame(tweet)\n",
    "tweet.to_csv(\"../data/clean.csv\", index = False)"
   ]
  },
  {
   "cell_type": "markdown",
   "metadata": {},
   "source": [
    "# Feature Extraction\n",
    "## 1.LIWC"
   ]
  },
  {
   "cell_type": "code",
   "execution_count": 245,
   "metadata": {},
   "outputs": [
    {
     "data": {
      "text/plain": [
       "(24783, 20)"
      ]
     },
     "execution_count": 245,
     "metadata": {},
     "output_type": "execute_result"
    }
   ],
   "source": [
    "#run LIWC on the whole df\n",
    "\n",
    "LIWC_list=[]\n",
    "for i in range(len(tweet)):\n",
    "    L = LIWC()\n",
    "    length, matched, labels = L.classify(tweet[i])\n",
    "    LIWC_list.append(L.readable(labels))\n",
    "LIWC_list\n",
    "#update preprocessed text to original df\n",
    "df.tweet=tweet\n",
    "hateSpeech=df[df['hate_speech'] ==3][\"tweet\"].reset_index(drop=True)\n",
    "#it is the list of hate speech\n",
    "LIWC_list1=[]\n",
    "for i in range(len(hateSpeech)):\n",
    "    L = LIWC()\n",
    "    length, matched, labels = L.classify(hateSpeech[i])\n",
    "    LIWC_list1.append(L.readable(labels))\n",
    "LIWC_list1\n",
    "#function that add dictionary\n",
    "def mergeDict(dict1, dict2):\n",
    "   ''' Merge dictionaries and keep values of common keys in list'''\n",
    "   dict3 = {**dict1, **dict2}\n",
    "   for key, value in dict3.items():\n",
    "       if key in dict1 and key in dict2:\n",
    "               dict3[key] = value +dict1[key]\n",
    "   return dict3\n",
    "#add those dic together\n",
    "hate_dic=LIWC_list1[0]\n",
    "for i in range(len(LIWC_list1)):\n",
    "    hate_dic=mergeDict(hate_dic, LIWC_list1[i])\n",
    "hate_dic.keys()\n",
    "#find hate_relevent key by analyzing hate speech\n",
    "relevent_key=[k for k, v in hate_dic.items() if v > 50]\n",
    "#build dataframe with relevent columns\n",
    "LIWC_df=pd.DataFrame(data=LIWC_list, index=None, columns=None, dtype=None, copy=False)[relevent_key]\n",
    "LIWC_df.shape"
   ]
  },
  {
   "cell_type": "code",
   "execution_count": null,
   "metadata": {
    "collapsed": true
   },
   "outputs": [],
   "source": [
    "LIWC_df = LIWC_df.fillna(0)\n",
    "LIWC_df.to_csv(\"../data/LIWC.csv\", index = False)"
   ]
  },
  {
   "cell_type": "markdown",
   "metadata": {},
   "source": [
    "## 2.Skip-gram\n",
    "\n",
    "Average len of tweet（after preprocessing)"
   ]
  },
  {
   "cell_type": "code",
   "execution_count": 228,
   "metadata": {},
   "outputs": [
    {
     "data": {
      "image/png": "[encoded data removed]",
      "text/plain": [
       "<Figure size 432x288 with 1 Axes>"
      ]
     },
     "metadata": {},
     "output_type": "display_data"
    },
    {
     "name": "stdout",
     "output_type": "stream",
     "text": [
      "7.962191825041359\n"
     ]
    }
   ],
   "source": [
    "#average len of tweet\n",
    "avg=0\n",
    "num=[]\n",
    "x=[x for x in range(24783)]\n",
    "for n in range(tweet.shape[0]):\n",
    "    avg+=len(tweet[n])\n",
    "    num.append(len(tweet[n]))\n",
    "avg=avg/(tweet.shape[0])\n",
    "plt.bar(x,num)\n",
    "plt.show()\n",
    "print(avg)"
   ]
  },
  {
   "cell_type": "code",
   "execution_count": 229,
   "metadata": {},
   "outputs": [
    {
     "data": {
      "text/plain": [
       "24783"
      ]
     },
     "execution_count": 229,
     "metadata": {},
     "output_type": "execute_result"
    }
   ],
   "source": [
    "#check the input data for word2vec\n",
    "len(tweet)"
   ]
  },
  {
   "cell_type": "markdown",
   "metadata": {},
   "source": [
    "Split Train and Test data"
   ]
  },
  {
   "cell_type": "code",
   "execution_count": 230,
   "metadata": {},
   "outputs": [
    {
     "name": "stdout",
     "output_type": "stream",
     "text": [
      "size of train data/test data: 22304 2479\n"
     ]
    }
   ],
   "source": [
    "#combine tweet data with labels\n",
    "tweet_pd=pd.DataFrame(tweet)\n",
    "tweet_pd['label']=txt.iloc[:,0]\n",
    "tweet_train, tweet_test = train_test_split(tweet_pd, test_size = 0.1)\n",
    "print(\"size of train data/test data:\",len(tweet_train),len(tweet_test))"
   ]
  },
  {
   "cell_type": "code",
   "execution_count": 232,
   "metadata": {},
   "outputs": [
    {
     "data": {
      "text/plain": [
       "array([list(['lookin', 'like', 'total', 'swag', 'fag', 'ayeee']),\n",
       "       list(['dumb', 'bitch', 'think', 'buddha', 'say', 'namast']),\n",
       "       list(['littl', 'girl', 'tom', 'sawyer', 'get', 'trap', 'cave', 'along', 'injun', 'joe', 'almost', 'die', 'injun', 'joe', 'die', 'find', 'treasur'])],\n",
       "      dtype=object)"
      ]
     },
     "execution_count": 232,
     "metadata": {},
     "output_type": "execute_result"
    }
   ],
   "source": [
    "#input data for word2vec\n",
    "tweet_skip_train=np.array(tweet_train.iloc[:,0])\n",
    "tweet_skip_train[:3]"
   ]
  },
  {
   "cell_type": "markdown",
   "metadata": {},
   "source": [
    "word2vec by skip-gram"
   ]
  },
  {
   "cell_type": "code",
   "execution_count": 233,
   "metadata": {},
   "outputs": [
    {
     "data": {
      "text/plain": [
       "(7495649, 8881500)"
      ]
     },
     "execution_count": 233,
     "metadata": {},
     "output_type": "execute_result"
    }
   ],
   "source": [
    "model = Word2Vec(size=100,min_count=1, workers=5,sg=1)  #dimension is 200, consider 5 words, using skip-gram\n",
    "model.build_vocab(tweet_skip_train)\n",
    "model.train(tweet_skip_train,total_examples = model.corpus_count,epochs = 50)"
   ]
  },
  {
   "cell_type": "code",
   "execution_count": 243,
   "metadata": {},
   "outputs": [
    {
     "data": {
      "text/plain": [
       "[[-0.0002455775,\n",
       "  -0.00010290334,\n",
       "  -9.455103e-05,\n",
       "  3.963332e-06,\n",
       "  5.2362535e-05,\n",
       "  3.980416e-05,\n",
       "  5.598349e-05,\n",
       "  -6.0099024e-05,\n",
       "  1.7975635e-05,\n",
       "  -0.00014565686,\n",
       "  -9.094328e-07,\n",
       "  -0.00015325441,\n",
       "  5.448408e-05,\n",
       "  5.374993e-06,\n",
       "  0.00025168236,\n",
       "  0.00022321993,\n",
       "  -0.00018444816,\n",
       "  0.00017892222,\n",
       "  -5.6383375e-05,\n",
       "  0.00014914338,\n",
       "  0.00021370202,\n",
       "  3.5252888e-05,\n",
       "  0.00011195126,\n",
       "  -0.00024017766,\n",
       "  -5.0911544e-06,\n",
       "  -6.052378e-05,\n",
       "  -0.00014493492,\n",
       "  -6.3383646e-05,\n",
       "  1.1499464e-05,\n",
       "  -3.552594e-05,\n",
       "  2.4260054e-05,\n",
       "  -3.576226e-05,\n",
       "  -5.09649e-05,\n",
       "  -4.251635e-05,\n",
       "  -7.214511e-05,\n",
       "  -0.00012298982,\n",
       "  9.340326e-05,\n",
       "  -6.378733e-05,\n",
       "  0.00012263168,\n",
       "  9.568141e-05,\n",
       "  -4.666297e-05,\n",
       "  2.656023e-05,\n",
       "  -0.00010233384,\n",
       "  5.5133703e-05,\n",
       "  -1.9455596e-05,\n",
       "  -0.00020622875,\n",
       "  -5.822185e-06,\n",
       "  -0.00010365904,\n",
       "  8.953905e-05,\n",
       "  -8.617407e-05,\n",
       "  -0.00018845864,\n",
       "  -2.1345024e-05,\n",
       "  3.060512e-05,\n",
       "  0.00015905123,\n",
       "  -8.557661e-05,\n",
       "  5.6494027e-06,\n",
       "  0.0001139814,\n",
       "  -0.00019954296,\n",
       "  -7.2552204e-05,\n",
       "  -4.825681e-05,\n",
       "  -0.00021439359,\n",
       "  -0.00011529229,\n",
       "  2.083577e-05,\n",
       "  -0.00010718247,\n",
       "  -0.00016451147,\n",
       "  0.00012849865,\n",
       "  3.063122e-05,\n",
       "  0.0001374433,\n",
       "  2.2745358e-05,\n",
       "  -0.00035071067,\n",
       "  0.00013177596,\n",
       "  0.00012514605,\n",
       "  -8.008749e-06,\n",
       "  2.3147559e-05,\n",
       "  -6.614438e-05,\n",
       "  6.5148655e-05,\n",
       "  -8.07125e-05,\n",
       "  2.0724347e-06,\n",
       "  -5.3045613e-05,\n",
       "  -8.865876e-06,\n",
       "  6.545642e-05,\n",
       "  6.6937646e-06,\n",
       "  5.8326583e-05,\n",
       "  -0.00012527195,\n",
       "  -5.0661725e-05,\n",
       "  3.634222e-05,\n",
       "  -7.207464e-05,\n",
       "  0.0001606441,\n",
       "  8.467141e-05,\n",
       "  0.00017298767,\n",
       "  2.9440216e-06,\n",
       "  0.00012131165,\n",
       "  3.5055877e-05,\n",
       "  -0.00011353507,\n",
       "  3.376795e-05,\n",
       "  2.6724605e-05,\n",
       "  -2.4359828e-05,\n",
       "  9.363466e-05,\n",
       "  -5.7465215e-05,\n",
       "  -5.408089e-05],\n",
       " [-0.00027796204,\n",
       "  -0.00018518757,\n",
       "  -6.107884e-05,\n",
       "  0.00019472714,\n",
       "  0.00021952718,\n",
       "  -1.0949025e-05,\n",
       "  2.6007323e-05,\n",
       "  -0.00011886048,\n",
       "  -0.00012956234,\n",
       "  -4.243418e-05,\n",
       "  -5.211387e-05,\n",
       "  -0.000100787576,\n",
       "  -2.0448695e-05,\n",
       "  3.4020977e-05,\n",
       "  0.00015628715,\n",
       "  0.00022759549,\n",
       "  -0.0001943141,\n",
       "  0.00022289054,\n",
       "  -3.2219607e-05,\n",
       "  0.00013904131,\n",
       "  0.00011402514,\n",
       "  0.0002525755,\n",
       "  0.00012058673,\n",
       "  2.0287867e-07,\n",
       "  4.5664197e-05,\n",
       "  -4.346282e-05,\n",
       "  -0.00012996377,\n",
       "  -3.077892e-05,\n",
       "  5.463988e-05,\n",
       "  -3.4403083e-06,\n",
       "  -8.607425e-05,\n",
       "  0.00022963992,\n",
       "  9.5563795e-05,\n",
       "  -0.00014711871,\n",
       "  -0.00013801076,\n",
       "  6.5607506e-05,\n",
       "  1.8913679e-05,\n",
       "  -4.391502e-06,\n",
       "  -4.693002e-05,\n",
       "  0.00029648756,\n",
       "  -0.00027206217,\n",
       "  0.00015525146,\n",
       "  -4.6016004e-05,\n",
       "  4.88708e-05,\n",
       "  0.000107138214,\n",
       "  -4.4649914e-05,\n",
       "  -4.5785484e-05,\n",
       "  4.5761994e-05,\n",
       "  7.416716e-05,\n",
       "  2.2252365e-05,\n",
       "  -0.00011667313,\n",
       "  7.578888e-05,\n",
       "  0.00015461243,\n",
       "  0.00021891163,\n",
       "  -6.329836e-05,\n",
       "  0.0001830563,\n",
       "  7.0548296e-05,\n",
       "  -7.554666e-05,\n",
       "  -6.409024e-05,\n",
       "  0.0003602258,\n",
       "  -0.00013125484,\n",
       "  -2.8000495e-05,\n",
       "  0.00011656174,\n",
       "  -0.0001768285,\n",
       "  5.6600828e-05,\n",
       "  0.00018093761,\n",
       "  -1.569516e-05,\n",
       "  0.00023371332,\n",
       "  -1.6536718e-05,\n",
       "  -0.0002549829,\n",
       "  -8.5767526e-05,\n",
       "  6.109024e-05,\n",
       "  -7.707338e-05,\n",
       "  0.00022304154,\n",
       "  6.0633338e-05,\n",
       "  1.6115644e-05,\n",
       "  6.97789e-05,\n",
       "  -0.00013077684,\n",
       "  -3.2438194e-05,\n",
       "  9.5649826e-05,\n",
       "  3.4067598e-05,\n",
       "  -6.0816754e-05,\n",
       "  -0.0001686731,\n",
       "  -5.845443e-05,\n",
       "  -1.1823943e-05,\n",
       "  -0.000105567226,\n",
       "  -3.8380047e-05,\n",
       "  0.0001979289,\n",
       "  0.00010259267,\n",
       "  4.169359e-05,\n",
       "  7.065736e-06,\n",
       "  0.00017882725,\n",
       "  -0.00014707161,\n",
       "  -0.00018061347,\n",
       "  6.34351e-05,\n",
       "  5.873744e-05,\n",
       "  -7.9091325e-05,\n",
       "  0.000105673134,\n",
       "  5.7280497e-05,\n",
       "  -0.00015611369],\n",
       " [-0.00014807584,\n",
       "  -0.00016805006,\n",
       "  -0.00011110422,\n",
       "  2.5016288e-05,\n",
       "  8.3212915e-05,\n",
       "  6.308597e-05,\n",
       "  -2.2857115e-05,\n",
       "  -4.749035e-06,\n",
       "  7.3322604e-05,\n",
       "  -4.502527e-05,\n",
       "  -4.0672076e-05,\n",
       "  -7.5484546e-05,\n",
       "  -3.5783964e-06,\n",
       "  3.7078713e-05,\n",
       "  0.00019504604,\n",
       "  0.00016466853,\n",
       "  -0.00010997116,\n",
       "  3.7524947e-05,\n",
       "  1.5768527e-06,\n",
       "  8.374132e-05,\n",
       "  7.420114e-05,\n",
       "  0.00012937708,\n",
       "  7.898667e-05,\n",
       "  -4.1213036e-05,\n",
       "  2.3588436e-05,\n",
       "  1.0215831e-05,\n",
       "  -3.8689263e-06,\n",
       "  4.453469e-05,\n",
       "  7.3033175e-06,\n",
       "  3.959377e-05,\n",
       "  -1.9848761e-05,\n",
       "  7.8897596e-05,\n",
       "  1.245456e-05,\n",
       "  -3.7474663e-05,\n",
       "  6.3741654e-06,\n",
       "  -4.6513633e-05,\n",
       "  4.5488367e-05,\n",
       "  -3.2250628e-05,\n",
       "  -0.00013552932,\n",
       "  0.000100247315,\n",
       "  -7.701186e-05,\n",
       "  9.6938275e-05,\n",
       "  -2.3876548e-05,\n",
       "  -6.16018e-05,\n",
       "  6.466847e-05,\n",
       "  -2.1623047e-05,\n",
       "  7.085336e-05,\n",
       "  -2.206012e-05,\n",
       "  -7.6230535e-05,\n",
       "  -4.0440416e-05,\n",
       "  -9.197203e-05,\n",
       "  -2.425349e-05,\n",
       "  6.169185e-05,\n",
       "  0.00014568558,\n",
       "  -1.90036e-05,\n",
       "  0.00014939265,\n",
       "  0.00010813117,\n",
       "  -0.00018267888,\n",
       "  -2.0302467e-05,\n",
       "  6.5972104e-05,\n",
       "  -8.963094e-05,\n",
       "  2.228426e-05,\n",
       "  -7.5111548e-06,\n",
       "  -0.00014331154,\n",
       "  -9.74864e-05,\n",
       "  3.7508e-05,\n",
       "  -1.1292614e-05,\n",
       "  7.6372045e-05,\n",
       "  9.3827424e-05,\n",
       "  -0.0002514503,\n",
       "  7.390621e-05,\n",
       "  6.588687e-05,\n",
       "  7.4738305e-06,\n",
       "  0.000100162004,\n",
       "  -8.282002e-05,\n",
       "  -1.3184019e-05,\n",
       "  6.2575695e-05,\n",
       "  2.0748404e-05,\n",
       "  6.8133522e-06,\n",
       "  -1.0884975e-05,\n",
       "  3.0964533e-05,\n",
       "  -4.9408776e-05,\n",
       "  9.1559574e-05,\n",
       "  2.0961634e-05,\n",
       "  -7.8974444e-05,\n",
       "  -0.00010359994,\n",
       "  -8.470042e-05,\n",
       "  0.00013446966,\n",
       "  8.897354e-05,\n",
       "  7.6789904e-05,\n",
       "  2.2580256e-05,\n",
       "  0.00016286173,\n",
       "  1.9292033e-06,\n",
       "  -6.6827866e-05,\n",
       "  -1.6571836e-05,\n",
       "  -3.2247626e-05,\n",
       "  8.338487e-06,\n",
       "  8.4200714e-05,\n",
       "  9.991054e-06,\n",
       "  -4.8484995e-05],\n",
       " [-8.014388e-05,\n",
       "  -3.461843e-05,\n",
       "  -1.01532305e-05,\n",
       "  3.0927837e-05,\n",
       "  4.3081713e-05,\n",
       "  -1.9729425e-05,\n",
       "  3.3024324e-05,\n",
       "  -1.9729714e-05,\n",
       "  -2.5481406e-05,\n",
       "  -1.646862e-05,\n",
       "  1.2540116e-05,\n",
       "  -5.6055733e-08,\n",
       "  2.8092397e-06,\n",
       "  2.0681955e-05,\n",
       "  5.86026e-05,\n",
       "  -2.6107684e-05,\n",
       "  -2.1255887e-06,\n",
       "  4.0876644e-06,\n",
       "  -3.409543e-05,\n",
       "  -5.9073736e-06,\n",
       "  8.085638e-06,\n",
       "  4.0017912e-05,\n",
       "  8.990059e-06,\n",
       "  -7.0529815e-05,\n",
       "  -8.547593e-06,\n",
       "  2.7994914e-05,\n",
       "  0.00010888781,\n",
       "  -3.7954576e-06,\n",
       "  4.4194396e-05,\n",
       "  -1.1923812e-05,\n",
       "  -3.5859084e-05,\n",
       "  5.939312e-05,\n",
       "  4.645522e-05,\n",
       "  -1.3286753e-05,\n",
       "  -8.1001264e-05,\n",
       "  -1.4282753e-06,\n",
       "  3.262218e-05,\n",
       "  -5.128517e-05,\n",
       "  -0.00010426422,\n",
       "  6.250255e-05,\n",
       "  -1.7673758e-05,\n",
       "  -2.0039099e-05,\n",
       "  2.6631003e-06,\n",
       "  1.8353523e-05,\n",
       "  1.22879555e-05,\n",
       "  -2.9422097e-05,\n",
       "  -6.0503535e-05,\n",
       "  -1.9356045e-05,\n",
       "  4.660132e-05,\n",
       "  1.3299975e-05,\n",
       "  -2.4609131e-05,\n",
       "  2.2387161e-05,\n",
       "  4.209679e-05,\n",
       "  8.154827e-05,\n",
       "  -1.9982958e-06,\n",
       "  -5.086958e-06,\n",
       "  5.023686e-05,\n",
       "  3.2447974e-07,\n",
       "  4.3274227e-05,\n",
       "  3.7464466e-05,\n",
       "  -7.2285824e-05,\n",
       "  3.605266e-05,\n",
       "  -1.7833003e-05,\n",
       "  -3.5452285e-05,\n",
       "  -4.8106573e-05,\n",
       "  -9.133623e-06,\n",
       "  -5.314944e-06,\n",
       "  4.8317444e-05,\n",
       "  1.2259147e-05,\n",
       "  -0.00012272423,\n",
       "  5.066943e-05,\n",
       "  -3.321162e-05,\n",
       "  6.0893933e-07,\n",
       "  -1.2637663e-05,\n",
       "  1.0504751e-05,\n",
       "  3.5034795e-05,\n",
       "  2.1500813e-05,\n",
       "  -3.1045307e-05,\n",
       "  2.9966834e-05,\n",
       "  1.185617e-05,\n",
       "  -1.1270131e-05,\n",
       "  -4.94197e-05,\n",
       "  3.2984713e-05,\n",
       "  1.6429482e-05,\n",
       "  -4.7603447e-05,\n",
       "  -2.3965526e-05,\n",
       "  -1.7486107e-05,\n",
       "  0.00010154626,\n",
       "  5.1697687e-05,\n",
       "  3.5204874e-05,\n",
       "  -4.3562823e-06,\n",
       "  4.3295668e-06,\n",
       "  1.2389444e-05,\n",
       "  -5.767712e-05,\n",
       "  6.5309805e-06,\n",
       "  2.930379e-05,\n",
       "  -1.1086741e-05,\n",
       "  2.829248e-05,\n",
       "  -1.0388114e-05,\n",
       "  1.4936704e-07],\n",
       " [-0.00017588079,\n",
       "  -0.00014630066,\n",
       "  -0.00015240781,\n",
       "  0.00012265655,\n",
       "  2.6329326e-05,\n",
       "  -8.623176e-05,\n",
       "  2.5423065e-05,\n",
       "  -8.588755e-05,\n",
       "  0.0001486509,\n",
       "  4.0653875e-05,\n",
       "  -7.0249566e-06,\n",
       "  1.4723873e-05,\n",
       "  -2.448348e-05,\n",
       "  7.89281e-05,\n",
       "  0.0001784596,\n",
       "  0.00019767374,\n",
       "  -6.932367e-05,\n",
       "  0.00013456379,\n",
       "  4.9947095e-05,\n",
       "  7.1056136e-05,\n",
       "  0.00018145822,\n",
       "  0.00017214197,\n",
       "  0.000110032066,\n",
       "  -0.0001168941,\n",
       "  3.8676066e-05,\n",
       "  0.00013509166,\n",
       "  -0.00011087177,\n",
       "  -5.8582867e-05,\n",
       "  4.652925e-07,\n",
       "  -3.4683828e-05,\n",
       "  -9.302544e-05,\n",
       "  8.14861e-05,\n",
       "  -9.244108e-05,\n",
       "  -0.00018143334,\n",
       "  -7.190233e-05,\n",
       "  -0.00013171369,\n",
       "  -6.293617e-06,\n",
       "  -5.4563734e-05,\n",
       "  -9.021443e-05,\n",
       "  0.00010344949,\n",
       "  -5.3306958e-05,\n",
       "  9.086931e-05,\n",
       "  3.358684e-05,\n",
       "  -2.0596723e-05,\n",
       "  0.00011060476,\n",
       "  -0.00013123624,\n",
       "  -4.4934462e-05,\n",
       "  -3.847607e-05,\n",
       "  0.00010572082,\n",
       "  -0.0001407313,\n",
       "  -0.000104633495,\n",
       "  -5.684809e-05,\n",
       "  1.2317618e-05,\n",
       "  0.00020708394,\n",
       "  -0.00012008882,\n",
       "  9.354648e-05,\n",
       "  0.000106061045,\n",
       "  -0.00023536333,\n",
       "  -1.6584772e-06,\n",
       "  6.7066896e-05,\n",
       "  -7.0865644e-05,\n",
       "  8.712208e-06,\n",
       "  4.2449676e-05,\n",
       "  -6.227232e-05,\n",
       "  -0.00012764682,\n",
       "  -1.0392666e-05,\n",
       "  -7.8835044e-05,\n",
       "  0.00017649395,\n",
       "  0.000102704566,\n",
       "  -0.0001985717,\n",
       "  -3.4530443e-05,\n",
       "  -2.3087593e-06,\n",
       "  -4.67643e-05,\n",
       "  9.612033e-05,\n",
       "  -3.424163e-05,\n",
       "  -2.1757305e-05,\n",
       "  9.936037e-05,\n",
       "  -7.6755576e-05,\n",
       "  -9.000559e-05,\n",
       "  6.29403e-05,\n",
       "  0.00015585123,\n",
       "  -2.1068137e-05,\n",
       "  -2.609427e-06,\n",
       "  -7.463044e-05,\n",
       "  -8.088745e-05,\n",
       "  6.4789354e-05,\n",
       "  -7.96301e-05,\n",
       "  0.00024863982,\n",
       "  9.447147e-05,\n",
       "  -8.511774e-06,\n",
       "  -6.129223e-05,\n",
       "  1.8847782e-05,\n",
       "  8.6930304e-05,\n",
       "  -6.119989e-05,\n",
       "  -5.7021563e-05,\n",
       "  -1.0603176e-05,\n",
       "  -4.875946e-05,\n",
       "  5.168573e-05,\n",
       "  1.4167305e-05,\n",
       "  -8.7680855e-05]]"
      ]
     },
     "execution_count": 243,
     "metadata": {},
     "output_type": "execute_result"
    }
   ],
   "source": [
    "#warnings.filterwarnings(\"ignore\")\n",
    "word_vec=[]\n",
    "v_in_dic=[]\n",
    "#average each word vector to get the vector of a single tweet\n",
    "for i in range(len(tweet_skip_train)):\n",
    "    sum1=0\n",
    "    for w in tweet[i]:\n",
    "        try:\n",
    "            sum1+=model[w]\n",
    "            v_in_dic.append(w)\n",
    "        #for out of dictionary vocab use random select in vocabulary word method to generate vectors\n",
    "        except:\n",
    "            random_w=choice(v_in_dic)\n",
    "            sum1+=model[random_w]\n",
    "            continue\n",
    "    avg=sum1/(len(tweet_skip_train))\n",
    "    avg=list(avg)\n",
    "    word_vec.append(avg)\n",
    "word_vec[:5]     "
   ]
  },
  {
   "cell_type": "code",
   "execution_count": 244,
   "metadata": {},
   "outputs": [
    {
     "data": {
      "text/plain": [
       "22304"
      ]
     },
     "execution_count": 244,
     "metadata": {},
     "output_type": "execute_result"
    }
   ],
   "source": [
    "len(word_vec)"
   ]
  },
  {
   "cell_type": "markdown",
   "metadata": {},
   "source": [
    "Organize the format of the output vector"
   ]
  },
  {
   "cell_type": "code",
   "execution_count": 247,
   "metadata": {},
   "outputs": [
    {
     "name": "stdout",
     "output_type": "stream",
     "text": [
      "[[-2.45577510e-04 -1.02903337e-04 -9.45510328e-05 ...  9.36346623e-05\n",
      "  -5.74652149e-05 -5.40808905e-05]\n",
      " [-2.45577510e-04 -1.02903337e-04 -9.45510328e-05 ...  9.36346623e-05\n",
      "  -5.74652149e-05 -5.40808905e-05]\n",
      " [-2.77962041e-04 -1.85187571e-04 -6.10788411e-05 ...  1.05673134e-04\n",
      "   5.72804965e-05 -1.56113689e-04]\n",
      " ...\n",
      " [-1.46974504e-04 -2.01315153e-04 -1.18379303e-05 ...  4.20343385e-05\n",
      "   5.39088724e-05 -8.86278867e-05]\n",
      " [-5.85618836e-05 -5.30057987e-05  3.16777405e-05 ... -3.86834399e-05\n",
      "  -2.01089224e-05 -1.92975094e-05]\n",
      " [-1.71049294e-04 -3.22787615e-04  2.14753491e-05 ... -8.70875665e-05\n",
      "   1.90298726e-06 -9.18894002e-05]]\n",
      "(22304, 100)\n"
     ]
    }
   ],
   "source": [
    "word_vec_array=np.array(word_vec)\n",
    "word_vec_l=np.reshape(word_vec_array[0],(1,100))\n",
    "for i in range(len(tweet_skip_train)):\n",
    "    array=np.reshape(word_vec_array[i],(1,100))\n",
    "    word_vec_l=np.r_[word_vec_l,array]\n",
    "print(word_vec_l)\n",
    "word_vec_lt=word_vec_l\n",
    "word_vec_lt=np.delete(word_vec_lt,0,0)\n",
    "print(word_vec_lt.shape)"
   ]
  },
  {
   "cell_type": "markdown",
   "metadata": {},
   "source": [
    "Construct test vector"
   ]
  },
  {
   "cell_type": "code",
   "execution_count": null,
   "metadata": {
    "collapsed": true
   },
   "outputs": [],
   "source": [
    "tweet_skip_test=np.array(tweet_test.iloc[:,0])\n",
    "#average each word vector to get the vector of a single tweet\n",
    "for i in range(len(tweet_test)):\n",
    "    sum1=0\n",
    "    for w in tweet[i]:\n",
    "        try:\n",
    "            sum1+=model[w]\n",
    "            v_in_dic.append(w)\n",
    "        #for out of dictionary vocab use random select in vocabulary word method to generate vectors\n",
    "        except:\n",
    "            random_w=choice(v_in_dic)\n",
    "            sum1+=model[random_w]\n",
    "            continue\n",
    "    avg=sum1/(len(tweet_skip_train))\n",
    "    avg=list(avg)\n",
    "    word_vec.append(avg)"
   ]
  },
  {
   "cell_type": "markdown",
   "metadata": {},
   "source": [
    "Correlation between featurs"
   ]
  },
  {
   "cell_type": "code",
   "execution_count": 15,
   "metadata": {},
   "outputs": [
    {
     "data": {
      "image/png": "[encoded data removed]",
      "text/plain": [
       "<Figure size 432x288 with 2 Axes>"
      ]
     },
     "metadata": {
      "needs_background": "light"
     },
     "output_type": "display_data"
    }
   ],
   "source": [
    "import seaborn as sns\n",
    "word_vec_lt_p=pd.DataFrame(word_vec_lt)\n",
    "sns.heatmap(word_vec_lt_p.corr())\n",
    "plt.show()"
   ]
  },
  {
   "cell_type": "code",
   "execution_count": 16,
   "metadata": {},
   "outputs": [
    {
     "data": {
      "text/plain": [
       "<bound method DataFrame.corr of              0         1         2         3         4         5         6   \\\n",
       "0     -0.378187 -0.341424 -0.219387 -0.421023 -0.032073  0.009670  0.659005   \n",
       "1     -0.335366 -0.308427 -0.197721 -0.406894 -0.042513  0.032830  0.629779   \n",
       "2     -0.338344 -0.374144 -0.289829 -0.490306 -0.051115 -0.000127  0.748339   \n",
       "3     -0.335833 -0.213152 -0.194488 -0.307188 -0.043572  0.012894  0.517207   \n",
       "4     -0.367412 -0.379855 -0.312911 -0.511126 -0.070462  0.003748  0.815208   \n",
       "...         ...       ...       ...       ...       ...       ...       ...   \n",
       "24778 -0.240287 -0.225102 -0.134457 -0.277045 -0.007022 -0.011368  0.398366   \n",
       "24779 -0.425372 -0.385249 -0.281467 -0.527872 -0.047862  0.038721  0.842835   \n",
       "24780 -0.483985 -0.385763 -0.285643 -0.567296 -0.082789  0.070580  0.908190   \n",
       "24781 -0.319147 -0.295356 -0.229092 -0.336418 -0.082757 -0.004183  0.652227   \n",
       "24782 -0.244060 -0.222693 -0.096786 -0.257059  0.006078 -0.013598  0.321849   \n",
       "\n",
       "             7         8         9   ...        90        91        92  \\\n",
       "0     -0.054744 -0.121106  0.121373  ... -0.117453 -0.401738 -0.136922   \n",
       "1     -0.051757 -0.144188  0.068464  ... -0.090909 -0.334801 -0.109036   \n",
       "2     -0.041751 -0.168223  0.083038  ... -0.157225 -0.439128 -0.133230   \n",
       "3     -0.073039 -0.062008  0.134254  ... -0.124281 -0.349341 -0.093720   \n",
       "4     -0.045681 -0.221390  0.087374  ... -0.162934 -0.453044 -0.124980   \n",
       "...         ...       ...       ...  ...       ...       ...       ...   \n",
       "24778 -0.045217 -0.045908  0.081491  ... -0.068174 -0.255393 -0.099233   \n",
       "24779 -0.035286 -0.206622  0.137114  ... -0.170296 -0.493751 -0.150159   \n",
       "24780 -0.055802 -0.217514  0.128346  ... -0.172178 -0.465970 -0.114080   \n",
       "24781  0.000432 -0.126466  0.065497  ... -0.104931 -0.360227 -0.167841   \n",
       "24782 -0.064610 -0.013337  0.072998  ... -0.043981 -0.216506 -0.117394   \n",
       "\n",
       "             93        94        95        96        97        98        99  \n",
       "0      0.152973 -0.405145 -0.027795  0.186755 -0.104800  0.512771  0.232740  \n",
       "1      0.138394 -0.361720  0.008229  0.139757 -0.074308  0.471768  0.258604  \n",
       "2      0.184280 -0.435950 -0.020010  0.200306 -0.106305  0.595206  0.230488  \n",
       "3      0.189361 -0.267953 -0.015049  0.123797 -0.090311  0.463375  0.099358  \n",
       "4      0.195661 -0.467320 -0.024172  0.197800 -0.127375  0.646527  0.264732  \n",
       "...         ...       ...       ...       ...       ...       ...       ...  \n",
       "24778  0.093700 -0.261303 -0.005898  0.130269 -0.044748  0.322480  0.139040  \n",
       "24779  0.187194 -0.467937 -0.010509  0.207704 -0.112896  0.640882  0.291530  \n",
       "24780  0.198868 -0.482418  0.027475  0.203142 -0.113016  0.651243  0.349964  \n",
       "24781  0.151861 -0.369451 -0.019202  0.186846 -0.053561  0.443396  0.302935  \n",
       "24782  0.062906 -0.233401 -0.007106  0.109154 -0.027796  0.259365  0.152970  \n",
       "\n",
       "[24783 rows x 100 columns]>"
      ]
     },
     "execution_count": 16,
     "metadata": {},
     "output_type": "execute_result"
    }
   ],
   "source": [
    "word_vec_lt_p.corr"
   ]
  },
  {
   "cell_type": "code",
   "execution_count": 13,
   "metadata": {
    "collapsed": true
   },
   "outputs": [],
   "source": [
    "#save this array as csv\n",
    "\n",
    "f = open('../data/word2vec_skip.csv', 'w')\n",
    "a = csv.writer(f)\n",
    "a.writerows(word_vec_lt)\n",
    "f.close()"
   ]
  },
  {
   "cell_type": "code",
   "execution_count": 14,
   "metadata": {
    "collapsed": true
   },
   "outputs": [],
   "source": [
    "np.savetxt('../data/word2vec_skip1.csv', word_vec_lt, delimiter = ',')  "
   ]
  },
  {
   "cell_type": "markdown",
   "metadata": {},
   "source": [
    "## 3.LDA\n",
    "\n",
    "construct dic for LDA "
   ]
  },
  {
   "cell_type": "code",
   "execution_count": 242,
   "metadata": {},
   "outputs": [],
   "source": [
    "dictionary = corpora.Dictionary(tweet)\n",
    "corpus = [dictionary.doc2bow(words) for words in tweet]"
   ]
  },
  {
   "cell_type": "markdown",
   "metadata": {},
   "source": [
    "Find the optimal topic numbers"
   ]
  },
  {
   "cell_type": "code",
   "execution_count": 101,
   "metadata": {},
   "outputs": [
    {
     "name": "stdout",
     "output_type": "stream",
     "text": [
      "\n",
      "Coherence Score:  0.38819085916417634\n",
      "\n",
      "Coherence Score:  0.42194391540606735\n",
      "\n",
      "Coherence Score:  0.43920979717599234\n",
      "\n",
      "Coherence Score:  0.41266646537218143\n"
     ]
    }
   ],
   "source": [
    "for i in [50, 60, 70, 80]:\n",
    "    lda = models.ldamodel.LdaModel(corpus=corpus, id2word=dictionary, num_topics=i)\n",
    "    coherence_model_lda = CoherenceModel(model=lda, texts=tweet, dictionary=dictionary, coherence='c_v')\n",
    "    coherence_lda = coherence_model_lda.get_coherence()\n",
    "    print('\\nCoherence Score: ', coherence_lda)\n",
    "    "
   ]
  },
  {
   "cell_type": "code",
   "execution_count": 102,
   "metadata": {},
   "outputs": [
    {
     "name": "stdout",
     "output_type": "stream",
     "text": [
      "(64, '0.200*\"man\" + 0.074*\"show\" + 0.043*\"eveyhing\" + 0.039*\"bich\" + 0.028*\"one\"')\n",
      "(68, '0.147*\"n\" + 0.121*\"us\" + 0.066*\"wo\" + 0.047*\"done\" + 0.043*\"bae\"')\n",
      "(55, '0.165*\"alk\" + 0.130*\"bou\" + 0.033*\"kid\" + 0.029*\"youve\" + 0.027*\"bich\"')\n",
      "(30, '0.122*\"bee\" + 0.108*\"yellow\" + 0.067*\"bich\" + 0.056*\"ied\" + 0.043*\"ask\"')\n",
      "(23, '0.134*\"fa\" + 0.128*\"new\" + 0.077*\"bich\" + 0.063*\"die\" + 0.046*\"ype\"')\n",
      "(13, '0.108*\"geing\" + 0.088*\"black\" + 0.072*\"nohing\" + 0.057*\"h\" + 0.051*\"kids\"')\n",
      "(67, '0.141*\"gil\" + 0.103*\"call\" + 0.087*\"wie\" + 0.044*\"like\" + 0.042*\"days\"')\n",
      "(10, '0.087*\"sa\" + 0.063*\"song\" + 0.061*\"had\" + 0.047*\"sick\" + 0.047*\"pussies\"')\n",
      "(37, '0.118*\"gonna\" + 0.056*\"fee\" + 0.043*\"im\" + 0.043*\"use\" + 0.037*\"somebody\"')\n",
      "(3, '0.113*\"lile\" + 0.110*\"bich\" + 0.096*\"always\" + 0.043*\"wish\" + 0.043*\"hai\"')\n",
      "(39, '0.077*\"hi\" + 0.068*\"niggah\" + 0.064*\"gon\" + 0.064*\"onigh\" + 0.062*\"back\"')\n",
      "(11, '0.107*\"alking\" + 0.079*\"well\" + 0.074*\"side\" + 0.041*\"ges\" + 0.037*\"calling\"')\n",
      "(8, '0.146*\"look\" + 0.116*\"like\" + 0.085*\"bich\" + 0.077*\"sop\" + 0.070*\"sill\"')\n",
      "(0, '0.157*\"cun\" + 0.047*\"away\" + 0.045*\"acing\" + 0.043*\"maybe\" + 0.037*\"jihadi\"')\n",
      "(31, '0.104*\"mad\" + 0.059*\"find\" + 0.041*\"body\" + 0.036*\"slow\" + 0.033*\"ick\"')\n",
      "(42, '0.077*\"dumb\" + 0.072*\"yea\" + 0.056*\"women\" + 0.055*\"ima\" + 0.052*\"ah\"')\n",
      "(2, '0.098*\"ca\" + 0.082*\"anohe\" + 0.069*\"looks\" + 0.066*\"like\" + 0.052*\"bich\"')\n",
      "(54, '0.233*\"know\" + 0.067*\"bich\" + 0.045*\"boke\" + 0.040*\"hings\" + 0.034*\"biches\"')\n",
      "(25, '0.090*\"house\" + 0.082*\"hope\" + 0.051*\"bich\" + 0.047*\"wife\" + 0.042*\"pop\"')\n",
      "(48, '0.094*\"bes\" + 0.085*\"soy\" + 0.079*\"wach\" + 0.067*\"hell\" + 0.065*\"young\"')\n",
      "(array([[0.01428571, 0.01428571, 0.01428571, ..., 0.01428571, 0.01428571,\n",
      "        0.01428571],\n",
      "       [0.01428571, 1.010879  , 0.01428571, ..., 0.01428571, 0.01428571,\n",
      "        0.01428571],\n",
      "       [0.01428571, 0.01428571, 0.01428571, ..., 0.01428571, 0.01428571,\n",
      "        0.01428571],\n",
      "       ...,\n",
      "       [0.01428571, 0.01428571, 0.01428571, ..., 0.01428571, 0.01428571,\n",
      "        0.01428571],\n",
      "       [0.01428571, 0.01428571, 0.01428571, ..., 0.01428571, 0.01428571,\n",
      "        0.01428571],\n",
      "       [0.01428571, 0.01428571, 0.01428571, ..., 0.01428571, 0.01428571,\n",
      "        0.01428571]], dtype=float32), None)\n"
     ]
    }
   ],
   "source": [
    "# lda model, num_topics is the number of topic\n",
    "lda = models.ldamodel.LdaModel(corpus=corpus, id2word=dictionary, num_topics=70)\n",
    "# print 5 words for each topic \n",
    "for topic in lda.print_topics(num_words=5):\n",
    "    print(topic)\n",
    "# topic infer\n",
    "lda_infer= lda.inference(corpus)\n",
    "print(lda.inference(corpus))"
   ]
  },
  {
   "cell_type": "code",
   "execution_count": 103,
   "metadata": {},
   "outputs": [
    {
     "name": "stdout",
     "output_type": "stream",
     "text": [
      "(24783, 70)\n"
     ]
    }
   ],
   "source": [
    "print(lda_infer[0].shape)"
   ]
  },
  {
   "cell_type": "code",
   "execution_count": 104,
   "metadata": {
    "collapsed": true
   },
   "outputs": [],
   "source": [
    "lda_infer = pd.DataFrame(lda_infer[0])\n",
    "lda_infer.to_csv(\"../data/lda_infer.csv\", index = False)"
   ]
  }
 ],
 "metadata": {
  "kernelspec": {
   "display_name": "Python 3",
   "language": "python",
   "name": "python3"
  },
  "language_info": {
   "codemirror_mode": {
    "name": "ipython",
    "version": 3
   },
   "file_extension": ".py",
   "mimetype": "text/x-python",
   "name": "python",
   "nbconvert_exporter": "python",
   "pygments_lexer": "ipython3",
   "version": "3.7.3"
  }
 },
 "nbformat": 4,
 "nbformat_minor": 2
}
