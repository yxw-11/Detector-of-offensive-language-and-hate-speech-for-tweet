{
 "cells": [
  {
   "cell_type": "code",
   "execution_count": 1,
   "metadata": {},
   "outputs": [],
   "source": [
    "%matplotlib inline\n",
    "import matplotlib.pyplot as plt\n",
    "import torch\n",
    "import torchtext\n",
    "from torchtext import data\n",
    "from torchsummary import summary\n",
    "import torch.optim as optim\n",
    "import torch.nn as nn\n",
    "import numpy as np\n",
    "import pandas as pd\n",
    "import nltk\n",
    "from nltk.stem.porter import *\n",
    "\n",
    "import string\n",
    "import re\n",
    "import warnings\n",
    "import time\n",
    "\n",
    "from sklearn.model_selection import train_test_split\n",
    "from sklearn.metrics import classification_report\n",
    "\n",
    "warnings.filterwarnings(\"ignore\")\n"
   ]
  },
  {
   "cell_type": "markdown",
   "metadata": {},
   "source": [
    "## Load Data"
   ]
  },
  {
   "cell_type": "code",
   "execution_count": 2,
   "metadata": {},
   "outputs": [
    {
     "name": "stdout",
     "output_type": "stream",
     "text": [
      "   count  hate_speech  offensive_language  neither  class  \\\n",
      "0      3            0                   0        3      2   \n",
      "1      3            0                   3        0      1   \n",
      "2      3            0                   3        0      1   \n",
      "3      3            0                   2        1      1   \n",
      "4      6            0                   6        0      1   \n",
      "\n",
      "                                               tweet  \n",
      "0  !!! RT @mayasolovely: As a woman you shouldn't...  \n",
      "1  !!!!! RT @mleew17: boy dats cold...tyga dwn ba...  \n",
      "2  !!!!!!! RT @UrKindOfBrand Dawg!!!! RT @80sbaby...  \n",
      "3  !!!!!!!!! RT @C_G_Anderson: @viva_based she lo...  \n",
      "4  !!!!!!!!!!!!! RT @ShenikaRoberts: The shit you...  \n",
      "(24783, 6)\n"
     ]
    }
   ],
   "source": [
    "df=pd.read_csv(\"data/labeled_data.csv\")\n",
    "df.drop(df.columns[[0]], axis=1,inplace=True)\n",
    "print(df.iloc[:5,:])\n",
    "print(df.shape)"
   ]
  },
  {
   "cell_type": "code",
   "execution_count": 3,
   "metadata": {},
   "outputs": [
    {
     "name": "stdout",
     "output_type": "stream",
     "text": [
      "#Yankees\n",
      "@TNKidsFoodPorn @Oreo ..............&#128530;\n",
      "@hoes &#9829;\n"
     ]
    }
   ],
   "source": [
    "# Index of tweet only contain format like\"#XX #XX\" (which would be empty after remove hashtag)\n",
    "# We need to specially deal with them\n",
    "special_index=[804,826,846,848,849,923,1016,1122,1909,3398,4818,5711,6098,6279,6332,6668,7168,11951,15859,18062]\n",
    "# for example\n",
    "print(df['tweet'][804])\n",
    "# Also there are two meaningless tweet\n",
    "print(df['tweet'][4828])\n",
    "print(df['tweet'][6098])\n",
    "meaningless_index=[4828,6098]"
   ]
  },
  {
   "cell_type": "code",
   "execution_count": 4,
   "metadata": {},
   "outputs": [],
   "source": [
    "#copy original text\n",
    "txt=df.iloc[:,4:6]\n",
    "tweet=txt.iloc[:,1].copy(deep=True)\n",
    "stemmer = PorterStemmer()"
   ]
  },
  {
   "cell_type": "code",
   "execution_count": 5,
   "metadata": {},
   "outputs": [
    {
     "data": {
      "text/plain": [
       "0    !!! RT @mayasolovely: As a woman you shouldn't...\n",
       "1    !!!!! RT @mleew17: boy dats cold...tyga dwn ba...\n",
       "2    !!!!!!! RT @UrKindOfBrand Dawg!!!! RT @80sbaby...\n",
       "3    !!!!!!!!! RT @C_G_Anderson: @viva_based she lo...\n",
       "4    !!!!!!!!!!!!! RT @ShenikaRoberts: The shit you...\n",
       "Name: tweet, dtype: object"
      ]
     },
     "execution_count": 5,
     "metadata": {},
     "output_type": "execute_result"
    }
   ],
   "source": [
    "tweet[:5]"
   ]
  },
  {
   "cell_type": "markdown",
   "metadata": {},
   "source": [
    "## Data Preprocessing"
   ]
  },
  {
   "cell_type": "code",
   "execution_count": 6,
   "metadata": {},
   "outputs": [],
   "source": [
    "def preprocess(tweet_,specail_index,meaningless_index):\n",
    "    #remove stopwords\n",
    "    stopwords = nltk.corpus.stopwords.words(\"english\")\n",
    "    other = [\"#ff\", \"ff\", \"rt\"]\n",
    "    stopwords.extend(other)\n",
    "    #word tokenize and remove stopwords\n",
    "    \n",
    "    for i in range(tweet_.shape[0]):\n",
    "        text=tweet_[i].lower()\n",
    "        text1=''.join([word+\" \" for word in text.split() if word not in stopwords])\n",
    "        tweet_[i]=text1\n",
    "    \n",
    "    #remove digit and excessive whitespace\n",
    "    #remove url mention and hashtag\n",
    "    \n",
    "    space_pattern = '\\s+'\n",
    "    giant_url_regex = ('http[s]?://(?:[a-zA-Z]|[0-9]|[$-_@.&+]|'\n",
    "        '[!*\\(\\),]|(?:%[0-9a-fA-F][0-9a-fA-F]))+')\n",
    "    mention_regex = '@[\\w\\-]+'\n",
    "    hashtag_regex = '#[\\w\\-]+'\n",
    "    \n",
    "    for i in range(tweet_.shape[0]):\n",
    "        text_string=tweet_[i]\n",
    "        parsed_text = re.sub(space_pattern, ' ', text_string)\n",
    "        parsed_text = re.sub(giant_url_regex, '', parsed_text)\n",
    "        parsed_text = re.sub(mention_regex, '', parsed_text) \n",
    "        if i not in specail_index:\n",
    "            parsed_text = re.sub(hashtag_regex, '', parsed_text)\n",
    "        else:\n",
    "            parsed_text = re.sub('#','',parsed_text)\n",
    "        if i in meaningless_index:\n",
    "            parsed_text ='This is a simple tweet'\n",
    "        tweet_[i]=parsed_text\n",
    "    \n",
    "    #tokenize and stemming\n",
    "    \"\"\"Removes punctuation and stems tweets. Returns a list of stemmed tokens.\"\"\"\n",
    "    for i in range(tweet_.shape[0]):\n",
    "        \n",
    "        tweet_stem=tweet_[i]\n",
    "        \n",
    "        remove = str.maketrans('','',string.punctuation) \n",
    "        tweet_stem = tweet_stem.translate(remove).strip()\n",
    "\n",
    "        tweet_process = [stemmer.stem(t) for t in tweet_stem.split()]\n",
    "        \n",
    "        tweet_[i]=tweet_process\n",
    "        \n",
    "        #tweet_[i] = ' '.join([str(elem) for elem in tweet_process]) \n",
    "        \n",
    "\n",
    "        \n",
    "    return tweet_\n",
    "\n",
    "#results of pre-process\n",
    "tweet_temp=preprocess(tweet,special_index,meaningless_index)"
   ]
  },
  {
   "cell_type": "code",
   "execution_count": 7,
   "metadata": {},
   "outputs": [],
   "source": [
    "all_tweet = tweet_temp.copy()\n",
    "all_labels = list(df['class'])"
   ]
  },
  {
   "cell_type": "code",
   "execution_count": 8,
   "metadata": {},
   "outputs": [],
   "source": [
    "tweet_len = []\n",
    "for t in all_tweet:\n",
    "    tweet_len.append(len(t))\n",
    "tweet_len.sort()"
   ]
  },
  {
   "cell_type": "code",
   "execution_count": 9,
   "metadata": {},
   "outputs": [
    {
     "data": {
      "text/plain": [
       "array([ 1,  2,  3,  4,  5,  6,  7,  8,  9, 10, 11, 12, 13, 14, 15, 16, 17,\n",
       "       18, 19, 20, 21, 22, 23, 24, 25, 27])"
      ]
     },
     "execution_count": 9,
     "metadata": {},
     "output_type": "execute_result"
    }
   ],
   "source": [
    "np.unique(tweet_len)"
   ]
  },
  {
   "cell_type": "markdown",
   "metadata": {},
   "source": [
    "## Dataset creation with torchtext"
   ]
  },
  {
   "cell_type": "code",
   "execution_count": 10,
   "metadata": {},
   "outputs": [],
   "source": [
    "TEXT = torchtext.data.Field(tokenize=None, batch_first=True, fix_length=15)\n",
    "LABEL = torchtext.data.LabelField(dtype=torch.float, sequential=False, use_vocab=False)\n",
    "fields = [('text', TEXT), ('label', LABEL)]"
   ]
  },
  {
   "cell_type": "code",
   "execution_count": 11,
   "metadata": {},
   "outputs": [],
   "source": [
    "all_example = []\n",
    "for i in range(len(all_tweet)):\n",
    "    temp = torchtext.data.Example.fromlist([all_tweet[i], all_labels[i]], fields)\n",
    "    all_example.append(temp)"
   ]
  },
  {
   "cell_type": "code",
   "execution_count": 12,
   "metadata": {},
   "outputs": [],
   "source": [
    "total_data = data.Dataset(all_example, fields)"
   ]
  },
  {
   "cell_type": "code",
   "execution_count": 13,
   "metadata": {},
   "outputs": [],
   "source": [
    "train_data, test_data = total_data.split(split_ratio=0.9)"
   ]
  },
  {
   "cell_type": "markdown",
   "metadata": {},
   "source": [
    "### Building vocab for embedding"
   ]
  },
  {
   "cell_type": "code",
   "execution_count": 14,
   "metadata": {},
   "outputs": [],
   "source": [
    "#TEXT.build_vocab(train_data, max_size=10000, vectors='glove.6B.200d')\n",
    "TEXT.build_vocab(train_data)"
   ]
  },
  {
   "cell_type": "code",
   "execution_count": 15,
   "metadata": {},
   "outputs": [
    {
     "name": "stdout",
     "output_type": "stream",
     "text": [
      "15435\n",
      "['<unk>', '<pad>', 'bitch', 'hoe', 'like', 'fuck', 'pussi', 'im', 'nigga', 'get', 'ass', 'shit']\n"
     ]
    }
   ],
   "source": [
    "print(len(TEXT.vocab)) \n",
    "print(TEXT.vocab.itos[:12]) "
   ]
  },
  {
   "cell_type": "code",
   "execution_count": 16,
   "metadata": {},
   "outputs": [],
   "source": [
    "BATCH_SIZE = 128\n",
    "train_iterator, test_iterator = data.BucketIterator.splits(\n",
    "    (train_data, test_data), batch_size=BATCH_SIZE,sort = False)"
   ]
  },
  {
   "cell_type": "code",
   "execution_count": 17,
   "metadata": {},
   "outputs": [
    {
     "name": "stdout",
     "output_type": "stream",
     "text": [
      "torch.Size([128, 15])\n",
      "torch.Size([128])\n"
     ]
    }
   ],
   "source": [
    "print(next(iter(train_iterator)).text.shape)\n",
    "print(next(iter(train_iterator)).label.shape)"
   ]
  },
  {
   "cell_type": "markdown",
   "metadata": {},
   "source": [
    "## TextCNN model"
   ]
  },
  {
   "cell_type": "code",
   "execution_count": 18,
   "metadata": {},
   "outputs": [],
   "source": [
    "class TextCNN(nn.Module):   \n",
    "    def __init__(self, vocab_size, embedding_dim, output_size, filter_num=100, kernel_lst=(1,2,3), dropout=0.5):\n",
    "        super(TextCNN, self).__init__()\n",
    "\n",
    "        self.embedding = nn.Embedding(vocab_size, embedding_dim)\n",
    "        self.convs = nn.ModuleList([\n",
    "                             nn.Sequential(nn.Conv2d(1, filter_num, (kernel, embedding_dim)),\n",
    "                                            nn.ReLU(),\n",
    "                                            nn.MaxPool2d((SENTENCE_LIMIT_SIZE - kernel + 1, 1)))\n",
    "                              for kernel in kernel_lst])\n",
    "        self.fc = nn.Linear(filter_num * len(kernel_lst), output_size)\n",
    "        self.dropout = nn.Dropout(dropout)\n",
    "\n",
    "    def forward(self, x):\n",
    "        x = self.embedding(x)       #(batch, word_num, embedding_dim)\n",
    "        x = x.unsqueeze(1)          #[128, 1, 20, 200] 即(batch, channel_num, word_num, embedding_dim)\n",
    "        out = [conv(x) for conv in self.convs]\n",
    "\n",
    "        out = torch.cat(out, dim=1)      # [128, 300, 1, 1]\n",
    "        out = out.view(x.size(0), -1)    #[128, 300]\n",
    "        out = self.dropout(out)\n",
    "        logit = self.fc(out)             #[128, 2]\n",
    "\n",
    "        return logit"
   ]
  },
  {
   "cell_type": "code",
   "execution_count": 19,
   "metadata": {},
   "outputs": [],
   "source": [
    "LEARNING_RATE = 1e-3      \n",
    "EMBEDDING_SIZE = 200      \n",
    "SENTENCE_LIMIT_SIZE = 15"
   ]
  },
  {
   "cell_type": "code",
   "execution_count": 20,
   "metadata": {},
   "outputs": [
    {
     "data": {
      "text/plain": [
       "15435"
      ]
     },
     "execution_count": 20,
     "metadata": {},
     "output_type": "execute_result"
    }
   ],
   "source": [
    "len(TEXT.vocab)"
   ]
  },
  {
   "cell_type": "code",
   "execution_count": 21,
   "metadata": {},
   "outputs": [],
   "source": [
    "net = TextCNN(len(TEXT.vocab),EMBEDDING_SIZE,3)"
   ]
  },
  {
   "cell_type": "code",
   "execution_count": 22,
   "metadata": {},
   "outputs": [],
   "source": [
    "\n",
    "def binary_acc(preds, y):\n",
    "\n",
    "    correct = torch.eq(preds, y).float()\n",
    "    acc = correct.sum() / len(correct)\n",
    "    return acc\n",
    "\n",
    "\n",
    "def train(cnn, iterator, optimizer, criteon):\n",
    "    avg_acc = []\n",
    "    cnn.train()        \n",
    "\n",
    "    for i, batch in enumerate(iterator):\n",
    "        pred = cnn(batch.text)                         \n",
    "        loss = criteon(pred, batch.label.long())       \n",
    "\n",
    "        acc = binary_acc(torch.max(pred, dim=1)[1], batch.label)   \n",
    "        avg_acc.append(acc)\n",
    "\n",
    "        optimizer.zero_grad()\n",
    "        loss.backward()\n",
    "        optimizer.step()\n",
    "\n",
    "    avg_acc = np.array(avg_acc)\n",
    "    return avg_acc\n",
    "\n",
    "\n",
    "\n",
    "\n",
    "def evaluate(cnn, iterator, criteon):\n",
    "    avg_acc = []\n",
    "    cnn.eval()       \n",
    "    log = []\n",
    "    with torch.no_grad():\n",
    "        for i, batch in enumerate(iterator):\n",
    "            pred = cnn(batch.text)               #torch.Size([128, 2])\n",
    "            acc = binary_acc(torch.max(pred, dim=1)[1], batch.label)\n",
    "            log.append(torch.max(pred, dim=1)[1])\n",
    "            avg_acc.append(acc)\n",
    "\n",
    "    avg_acc = np.array(avg_acc)\n",
    "    return avg_acc, log"
   ]
  },
  {
   "cell_type": "code",
   "execution_count": 23,
   "metadata": {},
   "outputs": [
    {
     "name": "stdout",
     "output_type": "stream",
     "text": [
      "Start Training\n",
      "epoch:0\n",
      "Elapsed time for epoch: 18.800670862197876 s\n",
      "Train Accuracy:  [0.40625   0.6953125 0.7734375 0.7734375 0.78125   0.7734375 0.7890625\n",
      " 0.796875  0.6875    0.7890625 0.8515625 0.7421875 0.7734375 0.78125\n",
      " 0.75      0.796875  0.8359375 0.8125    0.78125   0.796875  0.8359375\n",
      " 0.8125    0.8828125 0.8203125 0.734375  0.7578125 0.8125    0.7421875\n",
      " 0.765625  0.875     0.8046875 0.796875  0.8671875 0.84375   0.8515625\n",
      " 0.84375   0.8046875 0.84375   0.8359375 0.8515625 0.8125    0.8828125\n",
      " 0.7890625 0.828125  0.8359375 0.859375  0.78125   0.8203125 0.84375\n",
      " 0.7890625 0.8671875 0.8359375 0.7890625 0.8671875 0.8671875 0.890625\n",
      " 0.8515625 0.8515625 0.8359375 0.8984375 0.8359375 0.765625  0.8359375\n",
      " 0.8515625 0.828125  0.84375   0.828125  0.8671875 0.8046875 0.8671875\n",
      " 0.8671875 0.84375   0.8203125 0.8984375 0.8984375 0.828125  0.875\n",
      " 0.8828125 0.8515625 0.8515625 0.8046875 0.8515625 0.875     0.84375\n",
      " 0.859375  0.828125  0.875     0.8671875 0.8359375 0.828125  0.9375\n",
      " 0.859375  0.8671875 0.8359375 0.90625   0.84375   0.8046875 0.8125\n",
      " 0.875     0.796875  0.8515625 0.859375  0.8484849 0.875     0.890625\n",
      " 0.8515625 0.8515625 0.84375   0.921875  0.875     0.859375  0.890625\n",
      " 0.8515625 0.8828125 0.8671875 0.8671875 0.8671875 0.8984375 0.875\n",
      " 0.8203125 0.8671875 0.859375  0.9453125 0.84375   0.8671875 0.9140625\n",
      " 0.84375   0.84375   0.8984375 0.8515625 0.8671875 0.8828125 0.875\n",
      " 0.8671875 0.8125    0.8671875 0.90625   0.84375   0.90625   0.890625\n",
      " 0.875     0.84375   0.921875  0.9140625 0.8828125 0.8515625 0.796875\n",
      " 0.8203125 0.8984375 0.8828125 0.8984375 0.890625  0.859375  0.8515625\n",
      " 0.875     0.8984375 0.8203125 0.8828125 0.8984375 0.828125  0.890625\n",
      " 0.890625  0.84375   0.8828125 0.8984375 0.875     0.828125  0.8359375\n",
      " 0.8828125 0.84375   0.859375  0.8828125 0.859375  0.9140625 0.859375 ]\n",
      "Test Accuracy:  [0.859375  0.90625   0.8828125 0.90625   0.9140625 0.875     0.859375\n",
      " 0.859375  0.8828125 0.859375  0.8359375 0.8828125 0.890625  0.875\n",
      " 0.8359375 0.828125  0.890625  0.875     0.8828125 0.8695652]\n"
     ]
    },
    {
     "data": {
      "text/plain": [
       "Text(0.5, 1.0, 'Testing accuracy of TextCNN model')"
      ]
     },
     "execution_count": 23,
     "metadata": {},
     "output_type": "execute_result"
    },
    {
     "data": {
      "image/png": "[encoded data removed]",
      "text/plain": [
       "<Figure size 432x288 with 1 Axes>"
      ]
     },
     "metadata": {
      "needs_background": "light"
     },
     "output_type": "display_data"
    },
    {
     "data": {
      "image/png": "[encoded data removed]",
      "text/plain": [
       "<Figure size 432x288 with 1 Axes>"
      ]
     },
     "metadata": {
      "needs_background": "light"
     },
     "output_type": "display_data"
    }
   ],
   "source": [
    "optimizer = optim.Adam(net.parameters(), lr=LEARNING_RATE, weight_decay = 0.01)\n",
    "criteon = nn.CrossEntropyLoss()\n",
    "\n",
    "cnn_train_acc, cnn_test_acc = [], []\n",
    "print('Start Training')\n",
    "for epoch in range(1):\n",
    "    \n",
    "    time1 = time.time()\n",
    "    train_acc = train(net, train_iterator, optimizer, criteon)\n",
    "    \n",
    "    test_acc, test_log = evaluate(net, test_iterator, criteon)\n",
    "    time2 = time.time() #timekeeping\n",
    "    print(f'epoch:{epoch}')\n",
    "    print('Elapsed time for epoch:',time2 - time1,'s')\n",
    "    print(f'Train Accuracy:  {train_acc}')\n",
    "    print(f'Test Accuracy:  {test_acc}')\n",
    "    cnn_train_acc.append(train_acc)\n",
    "    cnn_test_acc.append(test_acc)\n",
    "\n",
    "plt.figure()\n",
    "plt.plot(cnn_train_acc[0])\n",
    "plt.ylim(ymin=0.5, ymax=1.01)\n",
    "plt.title(\"Training accuracy of TextCNN model\")\n",
    "plt.figure()\n",
    "plt.plot(cnn_test_acc[0])\n",
    "plt.ylim(ymin=0.5, ymax=1.01)\n",
    "plt.title(\"Testing accuracy of TextCNN model\")"
   ]
  },
  {
   "cell_type": "code",
   "execution_count": 24,
   "metadata": {
    "scrolled": true
   },
   "outputs": [],
   "source": [
    "Test_label = []\n",
    "for i, batch in enumerate(test_iterator):\n",
    "    Test_label.append(batch.label)\n",
    "\n",
    "test_pred = test_log[0].clone()\n",
    "for i in range(1,len(test_log)):\n",
    "    test_pred = torch.cat([test_pred,test_log[i]], dim = -1)\n",
    "test_pred = np.array(test_pred)\n",
    "    \n",
    "test_label = Test_label[0].clone()\n",
    "for i in range(1,len(Test_label)):\n",
    "    test_label = torch.cat([test_label,Test_label[i]], dim = -1)\n",
    "test_label = np.array(test_label)"
   ]
  },
  {
   "cell_type": "code",
   "execution_count": 25,
   "metadata": {},
   "outputs": [
    {
     "name": "stdout",
     "output_type": "stream",
     "text": [
      "              precision    recall  f1-score   support\n",
      "\n",
      "         0.0       0.43      0.04      0.07       154\n",
      "         1.0       0.91      0.94      0.93      1896\n",
      "         2.0       0.73      0.90      0.81       428\n",
      "\n",
      "    accuracy                           0.87      2478\n",
      "   macro avg       0.69      0.62      0.60      2478\n",
      "weighted avg       0.85      0.87      0.85      2478\n",
      "\n"
     ]
    }
   ],
   "source": [
    "report = classification_report(test_label,test_pred)\n",
    "print(report)"
   ]
  }
 ],
 "metadata": {
  "kernelspec": {
   "display_name": "Python 3",
   "language": "python",
   "name": "python3"
  },
  "language_info": {
   "codemirror_mode": {
    "name": "ipython",
    "version": 3
   },
   "file_extension": ".py",
   "mimetype": "text/x-python",
   "name": "python",
   "nbconvert_exporter": "python",
   "pygments_lexer": "ipython3",
   "version": "3.7.0"
  },
  "varInspector": {
   "cols": {
    "lenName": 16,
    "lenType": 16,
    "lenVar": 40
   },
   "kernels_config": {
    "python": {
     "delete_cmd_postfix": "",
     "delete_cmd_prefix": "del ",
     "library": "var_list.py",
     "varRefreshCmd": "print(var_dic_list())"
    },
    "r": {
     "delete_cmd_postfix": ") ",
     "delete_cmd_prefix": "rm(",
     "library": "var_list.r",
     "varRefreshCmd": "cat(var_dic_list()) "
    }
   },
   "types_to_exclude": [
    "module",
    "function",
    "builtin_function_or_method",
    "instance",
    "_Feature"
   ],
   "window_display": false
  }
 },
 "nbformat": 4,
 "nbformat_minor": 4
}
